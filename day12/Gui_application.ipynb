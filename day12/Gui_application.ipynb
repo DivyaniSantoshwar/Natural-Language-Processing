{
 "cells": [
  {
   "cell_type": "markdown",
   "metadata": {},
   "source": [
    "### Installatin "
   ]
  },
  {
   "cell_type": "code",
   "execution_count": 1,
   "metadata": {},
   "outputs": [],
   "source": [
    "#pip install flask"
   ]
  },
  {
   "cell_type": "code",
   "execution_count": 2,
   "metadata": {},
   "outputs": [],
   "source": [
    "from tkinter import *"
   ]
  },
  {
   "cell_type": "markdown",
   "metadata": {},
   "source": [
    "### Basic Application"
   ]
  },
  {
   "cell_type": "code",
   "execution_count": 3,
   "metadata": {},
   "outputs": [],
   "source": [
    "top = Tk()\n",
    "\n",
    "\n",
    "\n",
    "\n",
    "top.mainloop()"
   ]
  },
  {
   "cell_type": "markdown",
   "metadata": {},
   "source": [
    "### Customization"
   ]
  },
  {
   "cell_type": "code",
   "execution_count": 4,
   "metadata": {},
   "outputs": [],
   "source": [
    "top = Tk()\n",
    "top.title('My first application')\n",
    "top.geometry('500x300')\n",
    "\n",
    "top.mainloop()\n"
   ]
  },
  {
   "cell_type": "markdown",
   "metadata": {},
   "source": [
    "#### Add Widgets"
   ]
  },
  {
   "cell_type": "code",
   "execution_count": 5,
   "metadata": {},
   "outputs": [],
   "source": [
    "top = Tk()\n",
    "top.title('My first application')\n",
    "top.geometry('500x300')\n",
    "\n",
    "Label(top, text='Hello World').pack()\n",
    "Entry(top).pack()\n",
    "Button(top, text=\"Submit\").pack()\n",
    "\n",
    "\n",
    "\n",
    "top.mainloop()\n"
   ]
  },
  {
   "cell_type": "markdown",
   "metadata": {},
   "source": [
    "#### Event Handling"
   ]
  },
  {
   "cell_type": "code",
   "execution_count": 6,
   "metadata": {},
   "outputs": [],
   "source": [
    "top = Tk()\n",
    "top.title('My first application')\n",
    "top.geometry('500x300')\n",
    "\n",
    "def show():\n",
    "    name = str(e.get())\n",
    "    print('Your name is:', name.upper())\n",
    "\n",
    "\n",
    "Label(top, text='Hello World').pack()\n",
    "e=Entry(top)\n",
    "e.pack()\n",
    "Button(top, text=\"Submit\", command = show).pack()\n",
    "\n",
    "\n",
    "\n",
    "top.mainloop()"
   ]
  },
  {
   "cell_type": "code",
   "execution_count": 7,
   "metadata": {},
   "outputs": [],
   "source": [
    "top = Tk()\n",
    "top.title('My first application')\n",
    "top.geometry('500x300')\n",
    "\n",
    "def show():\n",
    "    name = str(e.get())\n",
    "    Label(top, text=\" Your name : \"+str(e.get().upper())).pack()\n",
    "\n",
    "\n",
    "Label(top, text='Hello World').pack()\n",
    "e=Entry(top)\n",
    "e.pack()\n",
    "Button(top, text=\"Submit\", command = show).pack()\n",
    "\n",
    "\n",
    "top.mainloop()"
   ]
  },
  {
   "cell_type": "markdown",
   "metadata": {},
   "source": [
    "### Interactive Application"
   ]
  },
  {
   "cell_type": "code",
   "execution_count": 8,
   "metadata": {},
   "outputs": [],
   "source": [
    "top = Tk()\n",
    "top.title('My first application')\n",
    "top.geometry('500x300')\n",
    "\n",
    "def show():\n",
    "    num = int(e.get())\n",
    "    Label(top, text=\" Square is : \"+str(num ** 2)).place(x=50,y=140)\n",
    "\n",
    "\n",
    "Label(top, text='Enter your number:').pack()\n",
    "e=Entry(top)\n",
    "e.place(x=50, y=80)\n",
    "Button(top, text=\"Submit\", command = show).place(x=50,y=110)\n",
    "\n",
    "\n",
    "top.mainloop()"
   ]
  },
  {
   "cell_type": "markdown",
   "metadata": {},
   "source": [
    "### Creating Calculator"
   ]
  },
  {
   "cell_type": "code",
   "execution_count": 9,
   "metadata": {},
   "outputs": [],
   "source": [
    "top = Tk()\n",
    "top.title('Calculator')\n",
    "top.geometry('400x300')\n",
    "\n",
    "def Add():\n",
    "    num1 = float(e1.get())\n",
    "    num2 = float(e2.get())\n",
    "    l.config(text=\" Addition is : \"+str(num1 + num2))\n",
    "    l.place(x=50,y=140)\n",
    "    \n",
    "def Subtract():\n",
    "    num1 = float(e1.get())\n",
    "    num2 = float(e2.get())\n",
    "    l.config(text=\" Subtraction is : \"+str(num1 - num2))\n",
    "    l.place(x=50,y=140)\n",
    "    \n",
    "def divide():\n",
    "    num1 = float(e1.get())\n",
    "    num2 = float(e2.get())\n",
    "    l.config(text=\" Division of no is  : \"+str(num1 /num2))\n",
    "    l.place(x=50,y=140)\n",
    "    \n",
    "def multiply():\n",
    "    num1 = float(e1.get())\n",
    "    num2 = float(e2.get())\n",
    "    l.config(text=\" Multiplication of : \"+str(num1 *num2))\n",
    "    l.place(x=50,y=140)\n",
    "\n",
    "\n",
    "\n",
    "Label(top, text='Enter first number:').place(x=50,y=50)\n",
    "e1=Entry(top)\n",
    "e1.place(x=50, y=80)\n",
    "\n",
    "Label(top, text='Enter second number:').place(x=200,y=50)\n",
    "e2=Entry(top)\n",
    "e2.place(x=200, y=80)\n",
    "\n",
    "Button(top, text=\"Add\", command = Add,bg='pink').place(x=50,y=110)\n",
    "Button(top, text=\"Subtract\", command = Subtract,bg='pink').place(x=110,y=110)\n",
    "Button(top, text=\"Divide\", command = divide,bg='pink').place(x=200,y=110)\n",
    "Button(top, text=\"Multiply\", command = multiply,bg='pink').place(x=270,y=110)\n",
    "l=Label(top)\n",
    "\n",
    "top.mainloop()"
   ]
  },
  {
   "cell_type": "markdown",
   "metadata": {},
   "source": [
    "#### GUI for spam Classifier"
   ]
  },
  {
   "cell_type": "code",
   "execution_count": 10,
   "metadata": {},
   "outputs": [
    {
     "name": "stderr",
     "output_type": "stream",
     "text": [
      "Exception in Tkinter callback\n",
      "Traceback (most recent call last):\n",
      "  File \"c:\\ProgramData\\Anaconda3\\Lib\\tkinter\\__init__.py\", line 1948, in __call__\n",
      "    return self.func(*args)\n",
      "           ^^^^^^^^^^^^^^^^\n",
      "  File \"C:\\Users\\Administrator.DAI-PC2\\AppData\\Local\\Temp\\ipykernel_39872\\3171423955.py\", line 6, in show\n",
      "    num = int(e.get())\n",
      "          ^^^^^^^^^^^^\n",
      "ValueError: invalid literal for int() with base 10: 'cfbchtgdhtchdfrghfr'\n"
     ]
    }
   ],
   "source": [
    "top = Tk()\n",
    "top.title('My first application')\n",
    "top.geometry('800x600')\n",
    "\n",
    "def check():\n",
    "    classifier=joblib.load('classifier.model')\n",
    "    tfdif= joblib('preprocessing model')\n",
    "    num = int(e.get())\n",
    "    l.config(text=\" Square is : \"+str(num ** 2))\n",
    "    l.place(x=50,y=150)\n",
    "\n",
    "\n",
    "Label(top, text='Enter your msg here:').place(x=50, y=30)\n",
    "t = Text(top)\n",
    "t.place(x=50, y=70)\n",
    "\n",
    "e=Entry(top)\n",
    "e.place(x=50, y=80)\n",
    "Button(top, text=\"Submit\", command = show).place(x=50,y=110)\n",
    "l=Label(top)\n",
    "\n",
    "top.mainloop()"
   ]
  },
  {
   "cell_type": "code",
   "execution_count": null,
   "metadata": {},
   "outputs": [],
   "source": []
  }
 ],
 "metadata": {
  "kernelspec": {
   "display_name": "base",
   "language": "python",
   "name": "python3"
  },
  "language_info": {
   "codemirror_mode": {
    "name": "ipython",
    "version": 3
   },
   "file_extension": ".py",
   "mimetype": "text/x-python",
   "name": "python",
   "nbconvert_exporter": "python",
   "pygments_lexer": "ipython3",
   "version": "3.11.7"
  }
 },
 "nbformat": 4,
 "nbformat_minor": 2
}
