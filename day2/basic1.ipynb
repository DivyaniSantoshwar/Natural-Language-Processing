{
 "cells": [
  {
   "cell_type": "code",
   "execution_count": 7,
   "metadata": {},
   "outputs": [],
   "source": [
    "from nltk import pos_tag\n",
    "from nltk.tokenize import word_tokenize"
   ]
  },
  {
   "cell_type": "code",
   "execution_count": 8,
   "metadata": {},
   "outputs": [],
   "source": [
    "text =\"Park Hyung Seok is an unpopular and bullied high school student who is looked down on by his fellow students for his obesity. Bullied and harassed every day by a delinquent, he takes out his anger verbally on his mother and asks for a school transfer. Resolving to run away from his problems and start anew, he moves to Seoul and plans to attend a new high school. A few nights before he begins school, however, he receives a new body that is tall, muscular, and handsome. When one body is in use, the other falls asleep; he can switch bodies by waking up the sleeping one.\""
   ]
  },
  {
   "cell_type": "code",
   "execution_count": 9,
   "metadata": {},
   "outputs": [
    {
     "data": {
      "text/plain": [
       "'Park Hyung Seok is an unpopular and bullied high school student who is looked down on by his fellow students for his obesity. Bullied and harassed every day by a delinquent, he takes out his anger verbally on his mother and asks for a school transfer. Resolving to run away from his problems and start anew, he moves to Seoul and plans to attend a new high school. A few nights before he begins school, however, he receives a new body that is tall, muscular, and handsome. When one body is in use, the other falls asleep; he can switch bodies by waking up the sleeping one.'"
      ]
     },
     "execution_count": 9,
     "metadata": {},
     "output_type": "execute_result"
    }
   ],
   "source": [
    "text"
   ]
  },
  {
   "cell_type": "code",
   "execution_count": 10,
   "metadata": {},
   "outputs": [],
   "source": [
    "tags = pos_tag(word_tokenize(text))"
   ]
  },
  {
   "cell_type": "code",
   "execution_count": 11,
   "metadata": {},
   "outputs": [
    {
     "data": {
      "text/plain": [
       "[('Park', 'NNP'),\n",
       " ('Hyung', 'NNP'),\n",
       " ('Seok', 'NNP'),\n",
       " ('is', 'VBZ'),\n",
       " ('an', 'DT'),\n",
       " ('unpopular', 'JJ'),\n",
       " ('and', 'CC'),\n",
       " ('bullied', 'VBD'),\n",
       " ('high', 'JJ'),\n",
       " ('school', 'NN'),\n",
       " ('student', 'NN'),\n",
       " ('who', 'WP'),\n",
       " ('is', 'VBZ'),\n",
       " ('looked', 'VBN'),\n",
       " ('down', 'RB'),\n",
       " ('on', 'IN'),\n",
       " ('by', 'IN'),\n",
       " ('his', 'PRP$'),\n",
       " ('fellow', 'JJ'),\n",
       " ('students', 'NNS'),\n",
       " ('for', 'IN'),\n",
       " ('his', 'PRP$'),\n",
       " ('obesity', 'NN'),\n",
       " ('.', '.'),\n",
       " ('Bullied', 'NNP'),\n",
       " ('and', 'CC'),\n",
       " ('harassed', 'VBD'),\n",
       " ('every', 'DT'),\n",
       " ('day', 'NN'),\n",
       " ('by', 'IN'),\n",
       " ('a', 'DT'),\n",
       " ('delinquent', 'NN'),\n",
       " (',', ','),\n",
       " ('he', 'PRP'),\n",
       " ('takes', 'VBZ'),\n",
       " ('out', 'RP'),\n",
       " ('his', 'PRP$'),\n",
       " ('anger', 'NN'),\n",
       " ('verbally', 'RB'),\n",
       " ('on', 'IN'),\n",
       " ('his', 'PRP$'),\n",
       " ('mother', 'NN'),\n",
       " ('and', 'CC'),\n",
       " ('asks', 'VBZ'),\n",
       " ('for', 'IN'),\n",
       " ('a', 'DT'),\n",
       " ('school', 'NN'),\n",
       " ('transfer', 'NN'),\n",
       " ('.', '.'),\n",
       " ('Resolving', 'VBG'),\n",
       " ('to', 'TO'),\n",
       " ('run', 'VB'),\n",
       " ('away', 'RP'),\n",
       " ('from', 'IN'),\n",
       " ('his', 'PRP$'),\n",
       " ('problems', 'NNS'),\n",
       " ('and', 'CC'),\n",
       " ('start', 'VB'),\n",
       " ('anew', 'RB'),\n",
       " (',', ','),\n",
       " ('he', 'PRP'),\n",
       " ('moves', 'VBZ'),\n",
       " ('to', 'TO'),\n",
       " ('Seoul', 'NNP'),\n",
       " ('and', 'CC'),\n",
       " ('plans', 'NNS'),\n",
       " ('to', 'TO'),\n",
       " ('attend', 'VB'),\n",
       " ('a', 'DT'),\n",
       " ('new', 'JJ'),\n",
       " ('high', 'JJ'),\n",
       " ('school', 'NN'),\n",
       " ('.', '.'),\n",
       " ('A', 'DT'),\n",
       " ('few', 'JJ'),\n",
       " ('nights', 'NNS'),\n",
       " ('before', 'IN'),\n",
       " ('he', 'PRP'),\n",
       " ('begins', 'VBZ'),\n",
       " ('school', 'NN'),\n",
       " (',', ','),\n",
       " ('however', 'RB'),\n",
       " (',', ','),\n",
       " ('he', 'PRP'),\n",
       " ('receives', 'VBZ'),\n",
       " ('a', 'DT'),\n",
       " ('new', 'JJ'),\n",
       " ('body', 'NN'),\n",
       " ('that', 'WDT'),\n",
       " ('is', 'VBZ'),\n",
       " ('tall', 'JJ'),\n",
       " (',', ','),\n",
       " ('muscular', 'JJ'),\n",
       " (',', ','),\n",
       " ('and', 'CC'),\n",
       " ('handsome', 'NN'),\n",
       " ('.', '.'),\n",
       " ('When', 'WRB'),\n",
       " ('one', 'CD'),\n",
       " ('body', 'NN'),\n",
       " ('is', 'VBZ'),\n",
       " ('in', 'IN'),\n",
       " ('use', 'NN'),\n",
       " (',', ','),\n",
       " ('the', 'DT'),\n",
       " ('other', 'JJ'),\n",
       " ('falls', 'VBZ'),\n",
       " ('asleep', 'RB'),\n",
       " (';', ':'),\n",
       " ('he', 'PRP'),\n",
       " ('can', 'MD'),\n",
       " ('switch', 'VB'),\n",
       " ('bodies', 'NNS'),\n",
       " ('by', 'IN'),\n",
       " ('waking', 'VBG'),\n",
       " ('up', 'RP'),\n",
       " ('the', 'DT'),\n",
       " ('sleeping', 'VBG'),\n",
       " ('one', 'CD'),\n",
       " ('.', '.')]"
      ]
     },
     "execution_count": 11,
     "metadata": {},
     "output_type": "execute_result"
    }
   ],
   "source": [
    "tags"
   ]
  },
  {
   "cell_type": "code",
   "execution_count": 13,
   "metadata": {},
   "outputs": [
    {
     "data": {
      "text/plain": [
       "['Park',\n",
       " 'Hyung',\n",
       " 'Seok',\n",
       " 'school',\n",
       " 'student',\n",
       " 'students',\n",
       " 'obesity',\n",
       " 'Bullied',\n",
       " 'day',\n",
       " 'delinquent',\n",
       " 'anger',\n",
       " 'mother',\n",
       " 'school',\n",
       " 'transfer',\n",
       " 'problems',\n",
       " 'Seoul',\n",
       " 'plans',\n",
       " 'school',\n",
       " 'nights',\n",
       " 'school',\n",
       " 'body',\n",
       " 'handsome',\n",
       " 'body',\n",
       " 'use',\n",
       " 'bodies']"
      ]
     },
     "execution_count": 13,
     "metadata": {},
     "output_type": "execute_result"
    }
   ],
   "source": [
    "#extract all the nouns from text and store list 'nouns'\n",
    "nouns=[]\n",
    "for tup in tags:\n",
    "    if tup[1].startswith('N'):\n",
    "        nouns.append(tup[0])\n",
    "\n",
    "nouns"
   ]
  },
  {
   "cell_type": "code",
   "execution_count": 21,
   "metadata": {},
   "outputs": [
    {
     "data": {
      "text/plain": [
       "['Park',\n",
       " 'Hyung',\n",
       " 'Seok',\n",
       " 'school',\n",
       " 'student',\n",
       " 'students',\n",
       " 'obesity',\n",
       " 'Bullied',\n",
       " 'day',\n",
       " 'delinquent',\n",
       " 'anger',\n",
       " 'mother',\n",
       " 'school',\n",
       " 'transfer',\n",
       " 'problems',\n",
       " 'Seoul',\n",
       " 'plans',\n",
       " 'school',\n",
       " 'nights',\n",
       " 'school',\n",
       " 'body',\n",
       " 'handsome',\n",
       " 'body',\n",
       " 'use',\n",
       " 'bodies']"
      ]
     },
     "execution_count": 21,
     "metadata": {},
     "output_type": "execute_result"
    }
   ],
   "source": [
    "nouns=[tup[0] for tup in tags if tup[1].startswith('N') ]\n",
    "nouns"
   ]
  },
  {
   "cell_type": "code",
   "execution_count": 29,
   "metadata": {},
   "outputs": [],
   "source": [
    "adj_noun = []\n",
    "for count in range (len(tags)):\n",
    "    if tags[count][1].startswith('JJ') and tags[count+1][1].startswith('NN'):\n",
    "        adj_noun.append([tags[count][0] ,tags[count+1][0]])\n"
   ]
  },
  {
   "cell_type": "code",
   "execution_count": 30,
   "metadata": {},
   "outputs": [
    {
     "data": {
      "text/plain": [
       "[['high', 'school'],\n",
       " ['fellow', 'students'],\n",
       " ['high', 'school'],\n",
       " ['few', 'nights'],\n",
       " ['new', 'body']]"
      ]
     },
     "execution_count": 30,
     "metadata": {},
     "output_type": "execute_result"
    }
   ],
   "source": [
    "adj_noun"
   ]
  },
  {
   "cell_type": "code",
   "execution_count": null,
   "metadata": {},
   "outputs": [],
   "source": []
  }
 ],
 "metadata": {
  "kernelspec": {
   "display_name": "base",
   "language": "python",
   "name": "python3"
  },
  "language_info": {
   "codemirror_mode": {
    "name": "ipython",
    "version": 3
   },
   "file_extension": ".py",
   "mimetype": "text/x-python",
   "name": "python",
   "nbconvert_exporter": "python",
   "pygments_lexer": "ipython3",
   "version": "3.11.7"
  }
 },
 "nbformat": 4,
 "nbformat_minor": 2
}
