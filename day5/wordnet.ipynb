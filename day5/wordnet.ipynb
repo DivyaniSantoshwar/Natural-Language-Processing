{
 "cells": [
  {
   "cell_type": "code",
   "execution_count": 1,
   "metadata": {},
   "outputs": [],
   "source": [
    "from nltk.corpus import wordnet"
   ]
  },
  {
   "cell_type": "code",
   "execution_count": 3,
   "metadata": {},
   "outputs": [
    {
     "data": {
      "text/plain": [
       "<WordNetCorpusReader in 'C:\\\\Users\\\\Administrator.DAI-PC2\\\\AppData\\\\Roaming\\\\nltk_data\\\\corpora\\\\wordnet.zip/wordnet/'>"
      ]
     },
     "execution_count": 3,
     "metadata": {},
     "output_type": "execute_result"
    }
   ],
   "source": [
    "wordnet"
   ]
  },
  {
   "cell_type": "code",
   "execution_count": 4,
   "metadata": {},
   "outputs": [],
   "source": [
    "x = wordnet.synsets('create')"
   ]
  },
  {
   "cell_type": "code",
   "execution_count": 5,
   "metadata": {},
   "outputs": [
    {
     "data": {
      "text/plain": [
       "[Synset('make.v.03'),\n",
       " Synset('create.v.02'),\n",
       " Synset('create.v.03'),\n",
       " Synset('create.v.04'),\n",
       " Synset('create.v.05'),\n",
       " Synset('produce.v.02')]"
      ]
     },
     "execution_count": 5,
     "metadata": {},
     "output_type": "execute_result"
    }
   ],
   "source": [
    "x"
   ]
  },
  {
   "cell_type": "code",
   "execution_count": 16,
   "metadata": {},
   "outputs": [
    {
     "data": {
      "text/plain": [
       "{'adept',\n",
       " 'beneficial',\n",
       " 'commodity',\n",
       " 'dear',\n",
       " 'dependable',\n",
       " 'effective',\n",
       " 'estimable',\n",
       " 'full',\n",
       " 'good',\n",
       " 'thoroughly',\n",
       " 'well'}"
      ]
     },
     "execution_count": 16,
     "metadata": {},
     "output_type": "execute_result"
    }
   ],
   "source": [
    "synonyms = set()   \n",
    "for word in wordnet.synsets('good'):\n",
    "    synonyms.add(word.lemmas()[0].name())\n",
    "\n",
    "synonyms"
   ]
  },
  {
   "cell_type": "code",
   "execution_count": 17,
   "metadata": {},
   "outputs": [
    {
     "name": "stdout",
     "output_type": "stream",
     "text": [
      "good\n",
      "good\n",
      "good\n",
      "commodity\n",
      "good\n",
      "full\n",
      "good\n",
      "estimable\n",
      "beneficial\n",
      "good\n",
      "good\n",
      "adept\n",
      "good\n",
      "dear\n",
      "dependable\n",
      "good\n",
      "good\n",
      "effective\n",
      "good\n",
      "good\n",
      "good\n",
      "good\n",
      "good\n",
      "good\n",
      "good\n",
      "well\n",
      "thoroughly\n"
     ]
    },
    {
     "data": {
      "text/plain": [
       "set()"
      ]
     },
     "execution_count": 17,
     "metadata": {},
     "output_type": "execute_result"
    }
   ],
   "source": [
    "synonyms = set()   \n",
    "for word in wordnet.synsets('good'):\n",
    "    print(word.lemmas()[0].name())\n",
    "\n",
    "synonyms"
   ]
  },
  {
   "cell_type": "code",
   "execution_count": 19,
   "metadata": {},
   "outputs": [
    {
     "name": "stdout",
     "output_type": "stream",
     "text": [
      "Word and Type : post.n.01\n",
      "Synonyms : post\n",
      "The meaning of the word : the position where someone (as a guard or sentry) stands or is assigned to stand\n",
      "Example : ['a soldier manned the entrance post', 'a sentry station']\n"
     ]
    }
   ],
   "source": [
    "synset = wordnet.synsets('post')\n",
    "print('Word and Type : ' + synset[0].name())\n",
    "print('Synonyms : ' + synset[0].lemmas()[0].name())\n",
    "print('The meaning of the word : ' + synset[0].definition())\n",
    "print('Example : ' + str(synset[0].examples()))"
   ]
  },
  {
   "cell_type": "code",
   "execution_count": 24,
   "metadata": {},
   "outputs": [
    {
     "name": "stdout",
     "output_type": "stream",
     "text": [
      "Word and Type : mail.n.02\n",
      "Synonyms : mail\n",
      "The meaning of the word : the system whereby messages are transmitted via the post office\n",
      "Example : ['the mail handles billions of items every day', 'he works for the United States mail service', \"in England they call mail `the post'\"]\n"
     ]
    }
   ],
   "source": [
    "synset = wordnet.synsets('post')\n",
    "print('Word and Type : ' + synset[9].name())\n",
    "print('Synonyms : ' + synset[9].lemmas()[0].name())\n",
    "print('The meaning of the word : ' + synset[9].definition())\n",
    "print('Example : ' + str(synset[9].examples()))"
   ]
  },
  {
   "cell_type": "code",
   "execution_count": 27,
   "metadata": {},
   "outputs": [
    {
     "name": "stdout",
     "output_type": "stream",
     "text": [
      "play.v.01\n",
      "play.v.02\n",
      "play.v.03\n",
      "act.v.03\n",
      "play.v.05\n",
      "play.v.06\n",
      "play.v.07\n",
      "act.v.05\n",
      "play.v.09\n",
      "play.v.10\n",
      "play.v.11\n",
      "play.v.12\n",
      "play.v.13\n",
      "play.v.14\n",
      "play.v.15\n",
      "play.v.16\n",
      "play.v.17\n",
      "play.v.18\n",
      "toy.v.02\n",
      "play.v.20\n",
      "dally.v.04\n",
      "play.v.22\n",
      "dally.v.01\n",
      "play.v.24\n",
      "act.v.10\n",
      "play.v.26\n",
      "bring.v.03\n",
      "play.v.28\n",
      "play.v.29\n",
      "bet.v.02\n",
      "play.v.31\n",
      "play.v.32\n",
      "play.v.33\n",
      "meet.v.10\n",
      "play.v.35\n"
     ]
    }
   ],
   "source": [
    "for word in wordnet.synsets('play', pos='v'):\n",
    "    print(word.name())\n",
    "    \n"
   ]
  },
  {
   "cell_type": "code",
   "execution_count": 28,
   "metadata": {},
   "outputs": [],
   "source": [
    "# Read a word from user and print all meaning of it\n",
    "# Read a word form user and print all noun meanings of it"
   ]
  },
  {
   "cell_type": "code",
   "execution_count": 34,
   "metadata": {},
   "outputs": [
    {
     "name": "stdout",
     "output_type": "stream",
     "text": [
      "Meaning of  sound are:\n",
      "sound.n.01 ---> the particular auditory effect produced by a given cause\n",
      "sound.n.02 ---> the subjective sensation of hearing something\n",
      "sound.n.03 ---> mechanical vibrations transmitted by an elastic medium\n",
      "sound.n.04 ---> the sudden occurrence of an audible event\n",
      "audio.n.01 ---> the audible part of a transmitted signal\n",
      "phone.n.02 ---> (phonetics) an individual sound unit of speech without concern as to whether or not it is a phoneme of some language\n",
      "strait.n.01 ---> a narrow channel of the sea joining two larger bodies of water\n",
      "sound.n.08 ---> a large ocean inlet or deep bay\n"
     ]
    }
   ],
   "source": [
    "word = input('Enter a word: ')\n",
    "print('Meaning of ', word, 'are:')\n",
    "for word in wordnet.synsets(word, pos='n'):\n",
    "    print(word.name(), '--->', word.definition())"
   ]
  },
  {
   "cell_type": "code",
   "execution_count": 42,
   "metadata": {},
   "outputs": [],
   "source": [
    "verbs = set()\n",
    "nouns = set()\n",
    "adj = set()\n",
    "for word in wordnet.synsets('sound', pos='n'):\n",
    "    nouns.add(word.lemmas()[0].name())\n",
    "\n",
    "for word in wordnet.synsets('sound', pos='v'):\n",
    "    verbs.add(word.lemmas()[0].name())\n",
    "\n",
    "for word in wordnet.synsets('sound', pos='a'):\n",
    "    adj.add(word.lemmas()[0].name())"
   ]
  },
  {
   "cell_type": "code",
   "execution_count": 43,
   "metadata": {},
   "outputs": [
    {
     "data": {
      "text/plain": [
       "{'fathom', 'sound', 'voice'}"
      ]
     },
     "execution_count": 43,
     "metadata": {},
     "output_type": "execute_result"
    }
   ],
   "source": [
    "verbs"
   ]
  },
  {
   "cell_type": "code",
   "execution_count": 44,
   "metadata": {},
   "outputs": [
    {
     "data": {
      "text/plain": [
       "{'audio', 'phone', 'sound', 'strait'}"
      ]
     },
     "execution_count": 44,
     "metadata": {},
     "output_type": "execute_result"
    }
   ],
   "source": [
    "nouns"
   ]
  },
  {
   "cell_type": "code",
   "execution_count": 45,
   "metadata": {},
   "outputs": [
    {
     "data": {
      "text/plain": [
       "{'good', 'healthy', 'heavy', 'legal', 'reasoned', 'sound'}"
      ]
     },
     "execution_count": 45,
     "metadata": {},
     "output_type": "execute_result"
    }
   ],
   "source": [
    "adj"
   ]
  },
  {
   "cell_type": "markdown",
   "metadata": {},
   "source": [
    "## find antonym of a word"
   ]
  },
  {
   "cell_type": "code",
   "execution_count": 58,
   "metadata": {},
   "outputs": [
    {
     "name": "stdout",
     "output_type": "stream",
     "text": [
      "antonyms :  {'idle', 'malfunction'}\n"
     ]
    }
   ],
   "source": [
    "ant = set()\n",
    "for synset in wordnet.synsets(\"run\"):\n",
    "    for lemma in synset.lemmas():\n",
    "        if lemma.antonyms():  # when antonyms are available, add them into the list.\n",
    "            ant.add(lemma.antonyms()[0].name())\n",
    "print('antonyms : ', ant)"
   ]
  },
  {
   "cell_type": "markdown",
   "metadata": {},
   "source": [
    "## extract the hypernyms"
   ]
  },
  {
   "cell_type": "code",
   "execution_count": 61,
   "metadata": {},
   "outputs": [
    {
     "name": "stdout",
     "output_type": "stream",
     "text": [
      "bottle is a hyponym of vessel.n.03\n",
      "bottle is a hyponym of containerful.n.01\n",
      "bottle is a hyponym of vessel.n.03\n",
      "bottle is a hyponym of store.v.02\n",
      "bottle is a hyponym of put.v.01\n"
     ]
    }
   ],
   "source": [
    "word = \"bottle\"\n",
    "synsets = wordnet.synsets(word)\n",
    "\n",
    "for synset in synsets:\n",
    "    #Get hypernyms (parent concepts)\n",
    "    hypernyms = synset.hypernyms()\n",
    "    # Check if there are any hypernyms\n",
    "    if hypernyms:\n",
    "    #PRINT HYPERNYMS(CAN ACCESS NAME PROPERTY FOR TEXT)\n",
    "        for hypernym in hypernyms:\n",
    "            print(f\"{word} is a hyponym of {hypernym.name()}\")\n",
    "    "
   ]
  },
  {
   "cell_type": "markdown",
   "metadata": {},
   "source": [
    "## Extract the meronyms "
   ]
  },
  {
   "cell_type": "code",
   "execution_count": 63,
   "metadata": {},
   "outputs": [
    {
     "name": "stdout",
     "output_type": "stream",
     "text": [
      "car is a meronym of accelerator.n.01\n",
      "car is a meronym of air_bag.n.01\n",
      "car is a meronym of auto_accessory.n.01\n",
      "car is a meronym of automobile_engine.n.01\n",
      "car is a meronym of automobile_horn.n.01\n",
      "car is a meronym of buffer.n.06\n",
      "car is a meronym of bumper.n.02\n",
      "car is a meronym of car_door.n.01\n",
      "car is a meronym of car_mirror.n.01\n",
      "car is a meronym of car_seat.n.01\n",
      "car is a meronym of car_window.n.01\n",
      "car is a meronym of fender.n.01\n",
      "car is a meronym of first_gear.n.01\n",
      "car is a meronym of floorboard.n.02\n",
      "car is a meronym of gasoline_engine.n.01\n",
      "car is a meronym of glove_compartment.n.01\n",
      "car is a meronym of grille.n.02\n",
      "car is a meronym of high_gear.n.01\n",
      "car is a meronym of hood.n.09\n",
      "car is a meronym of luggage_compartment.n.01\n",
      "car is a meronym of rear_window.n.01\n",
      "car is a meronym of reverse.n.02\n",
      "car is a meronym of roof.n.02\n",
      "car is a meronym of running_board.n.01\n",
      "car is a meronym of stabilizer_bar.n.01\n",
      "car is a meronym of sunroof.n.01\n",
      "car is a meronym of tail_fin.n.02\n",
      "car is a meronym of third_gear.n.01\n",
      "car is a meronym of window.n.02\n",
      "car is a meronym of suspension.n.05\n"
     ]
    }
   ],
   "source": [
    "word = \"car\"\n",
    "synsets = wordnet.synsets(word)\n",
    "\n",
    "for synset in synsets:\n",
    "    # Get memeber meronym (component parts)\n",
    "    meronyms = synset.part_meronyms()\n",
    "    # Check If there are any meronyms\n",
    "    \n",
    "    if meronyms:\n",
    "        # Print meronym(can access name property for text)\n",
    "        for meronym in meronyms:\n",
    "            print(f\"{word} is a meronym of {meronym.name()}\")"
   ]
  },
  {
   "cell_type": "code",
   "execution_count": null,
   "metadata": {},
   "outputs": [],
   "source": []
  }
 ],
 "metadata": {
  "kernelspec": {
   "display_name": "base",
   "language": "python",
   "name": "python3"
  },
  "language_info": {
   "codemirror_mode": {
    "name": "ipython",
    "version": 3
   },
   "file_extension": ".py",
   "mimetype": "text/x-python",
   "name": "python",
   "nbconvert_exporter": "python",
   "pygments_lexer": "ipython3",
   "version": "3.11.7"
  }
 },
 "nbformat": 4,
 "nbformat_minor": 2
}
