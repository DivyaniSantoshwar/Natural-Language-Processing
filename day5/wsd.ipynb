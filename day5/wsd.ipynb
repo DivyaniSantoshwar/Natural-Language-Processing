{
 "cells": [
  {
   "cell_type": "markdown",
   "metadata": {},
   "source": [
    "# Word Sense Disambiguiation"
   ]
  },
  {
   "cell_type": "code",
   "execution_count": 7,
   "metadata": {},
   "outputs": [
    {
     "data": {
      "text/plain": [
       "'deliberate radiation or reflection of electromagnetic energy for the purpose of disrupting enemy use of electronic devices or systems'"
      ]
     },
     "execution_count": 7,
     "metadata": {},
     "output_type": "execute_result"
    }
   ],
   "source": [
    "from nltk.wsd import lesk\n",
    "from nltk.tokenize import word_tokenize\n",
    "a1 = lesk(word_tokenize('This device is used to jam the signal.'), 'jam')\n",
    "a1.definition()"
   ]
  },
  {
   "cell_type": "code",
   "execution_count": 8,
   "metadata": {},
   "outputs": [
    {
     "data": {
      "text/plain": [
       "'get stuck and immobilized'"
      ]
     },
     "execution_count": 8,
     "metadata": {},
     "output_type": "execute_result"
    }
   ],
   "source": [
    "a2 = lesk(word_tokenize('We are stuck in a traffic jam.'), 'jam')\n",
    "a2.definition()"
   ]
  },
  {
   "cell_type": "code",
   "execution_count": 15,
   "metadata": {},
   "outputs": [
    {
     "data": {
      "text/plain": [
       "'interfere with or prevent the reception of signals'"
      ]
     },
     "execution_count": 15,
     "metadata": {},
     "output_type": "execute_result"
    }
   ],
   "source": [
    "a3 = lesk(word_tokenize('i had had peanut butter with fruit jam in the morning.'), 'jam')\n",
    "a3.definition()"
   ]
  },
  {
   "cell_type": "code",
   "execution_count": 14,
   "metadata": {},
   "outputs": [
    {
     "name": "stdout",
     "output_type": "stream",
     "text": [
      "jam.n.01 ---> preserve of crushed fruit\n",
      "fix.n.01 ---> informal terms for a difficult situation\n",
      "crush.n.02 ---> a dense crowd of people\n",
      "jamming.n.01 ---> deliberate radiation or reflection of electromagnetic energy for the purpose of disrupting enemy use of electronic devices or systems\n",
      "throng.v.01 ---> press tightly together or cram\n",
      "jam.v.02 ---> push down forcibly\n",
      "jam.v.03 ---> crush or bruise\n",
      "jam.v.04 ---> interfere with or prevent the reception of signals\n",
      "jam.v.05 ---> get stuck and immobilized\n",
      "jam.v.06 ---> crowd or pack to capacity\n",
      "obstruct.v.02 ---> block passage through\n"
     ]
    }
   ],
   "source": [
    "from nltk.corpus import wordnet\n",
    "for word in wordnet.synsets('jam'):\n",
    "    print(word.name(), '--->', word.definition())"
   ]
  },
  {
   "cell_type": "code",
   "execution_count": 16,
   "metadata": {},
   "outputs": [
    {
     "data": {
      "text/plain": [
       "'take hold of so as to seize or restrain or stop the motion of'"
      ]
     },
     "execution_count": 16,
     "metadata": {},
     "output_type": "execute_result"
    }
   ],
   "source": [
    "a4 = lesk(word_tokenize('the police likes to catch the thieves.'), 'catch')\n",
    "a4.definition()"
   ]
  },
  {
   "cell_type": "code",
   "execution_count": 18,
   "metadata": {},
   "outputs": [
    {
     "data": {
      "text/plain": [
       "'catch up with and possibly overtake'"
      ]
     },
     "execution_count": 18,
     "metadata": {},
     "output_type": "execute_result"
    }
   ],
   "source": [
    "a5 = lesk(word_tokenize('you should catch the opportunity.'), 'catch')\n",
    "a5.definition()"
   ]
  },
  {
   "cell_type": "code",
   "execution_count": 17,
   "metadata": {},
   "outputs": [
    {
     "name": "stdout",
     "output_type": "stream",
     "text": [
      "catch.n.01 ---> a drawback or difficulty that is not readily evident\n",
      "catch.n.02 ---> the quantity that was caught\n",
      "catch.n.03 ---> a person regarded as a good matrimonial prospect\n",
      "catch.n.04 ---> anything that is caught (especially if it is worth catching)\n",
      "catch.n.05 ---> a break or check in the voice (usually a sign of strong emotion)\n",
      "catch.n.06 ---> a restraint that checks the motion of something\n",
      "catch.n.07 ---> a fastener that fastens or locks a door or window\n",
      "catch.n.08 ---> a cooperative game in which a ball is passed back and forth\n",
      "catch.n.09 ---> the act of catching an object with the hands\n",
      "apprehension.n.04 ---> the act of apprehending (especially apprehending a criminal)\n",
      "catch.v.01 ---> discover or come upon accidentally, suddenly, or unexpectedly; catch somebody doing something or in a certain state\n",
      "catch.v.02 ---> perceive with the senses quickly, suddenly, or momentarily\n",
      "get.v.19 ---> reach with a blow or hit in a particular spot\n",
      "catch.v.04 ---> take hold of so as to seize or restrain or stop the motion of\n",
      "get.v.11 ---> succeed in catching or seizing, especially after a chase\n",
      "hitch.v.01 ---> to hook or entangle\n",
      "catch.v.07 ---> attract and fix\n",
      "capture.v.06 ---> capture as if by hunting, snaring, or trapping\n",
      "catch.v.09 ---> reach in time\n",
      "catch.v.10 ---> get or regain something necessary, usually quickly or briefly\n",
      "overtake.v.01 ---> catch up with and possibly overtake\n",
      "catch.v.12 ---> be struck or affected by\n",
      "catch.v.13 ---> check oneself during an action\n",
      "catch.v.14 ---> hear, usually without the knowledge of the speakers\n",
      "watch.v.03 ---> see or watch\n",
      "catch.v.16 ---> cause to become accidentally or suddenly caught, ensnared, or entangled\n",
      "trip_up.v.01 ---> detect a blunder or misstep\n",
      "catch.v.18 ---> grasp with the mind or develop an understanding of\n",
      "catch.v.19 ---> contract\n",
      "catch.v.20 ---> start burning\n",
      "catch.v.21 ---> perceive by hearing\n",
      "catch.v.22 ---> suffer from the receipt of\n",
      "capture.v.02 ---> attract; cause to be enamored\n",
      "catch.v.24 ---> apprehend and reproduce accurately\n",
      "catch.v.25 ---> take in and retain\n",
      "catch.v.26 ---> spread or be communicated\n",
      "catch.v.27 ---> be the catcher\n",
      "catch.v.28 ---> become aware of\n",
      "catch.v.29 ---> delay or hold up; prevent from proceeding on schedule or as planned\n"
     ]
    }
   ],
   "source": [
    "for word in wordnet.synsets('catch'):\n",
    "    print(word.name(), '--->', word.definition())"
   ]
  },
  {
   "cell_type": "code",
   "execution_count": 19,
   "metadata": {},
   "outputs": [
    {
     "data": {
      "text/plain": [
       "'prefer or wish to do something'"
      ]
     },
     "execution_count": 19,
     "metadata": {},
     "output_type": "execute_result"
    }
   ],
   "source": [
    "b1= lesk(word_tokenize('he likes flowers.'), 'like')\n",
    "b1.definition()"
   ]
  },
  {
   "cell_type": "code",
   "execution_count": 20,
   "metadata": {},
   "outputs": [
    {
     "data": {
      "text/plain": [
       "'a kind of person'"
      ]
     },
     "execution_count": 20,
     "metadata": {},
     "output_type": "execute_result"
    }
   ],
   "source": [
    "b2= lesk(word_tokenize('The association is like a bad combination '), 'like')\n",
    "b2.definition()"
   ]
  },
  {
   "cell_type": "code",
   "execution_count": 23,
   "metadata": {},
   "outputs": [
    {
     "data": {
      "text/plain": [
       "'a natural event that involves a change in the position or location of something'"
      ]
     },
     "execution_count": 23,
     "metadata": {},
     "output_type": "execute_result"
    }
   ],
   "source": [
    "b3= lesk(word_tokenize('Loose motion never comes in slow motion '), 'motion')\n",
    "b3.definition()"
   ]
  },
  {
   "cell_type": "code",
   "execution_count": 24,
   "metadata": {},
   "outputs": [
    {
     "data": {
      "text/plain": [
       "'a slope in the turn of a road or track; the outside is higher than the inside in order to reduce the effects of centrifugal force'"
      ]
     },
     "execution_count": 24,
     "metadata": {},
     "output_type": "execute_result"
    }
   ],
   "source": [
    "b4= lesk(word_tokenize('His home is situated on the bank of river'), 'bank')\n",
    "b4.definition()"
   ]
  },
  {
   "cell_type": "code",
   "execution_count": 25,
   "metadata": {},
   "outputs": [
    {
     "data": {
      "text/plain": [
       "'put into a bank account'"
      ]
     },
     "execution_count": 25,
     "metadata": {},
     "output_type": "execute_result"
    }
   ],
   "source": [
    "c1= lesk(word_tokenize('my account is transfering to another bank'), 'bank')\n",
    "c1.definition()"
   ]
  },
  {
   "cell_type": "code",
   "execution_count": null,
   "metadata": {},
   "outputs": [],
   "source": []
  }
 ],
 "metadata": {
  "kernelspec": {
   "display_name": "base",
   "language": "python",
   "name": "python3"
  },
  "language_info": {
   "codemirror_mode": {
    "name": "ipython",
    "version": 3
   },
   "file_extension": ".py",
   "mimetype": "text/x-python",
   "name": "python",
   "nbconvert_exporter": "python",
   "pygments_lexer": "ipython3",
   "version": "3.11.7"
  }
 },
 "nbformat": 4,
 "nbformat_minor": 2
}
