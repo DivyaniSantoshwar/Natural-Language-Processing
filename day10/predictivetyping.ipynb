{
 "cells": [
  {
   "cell_type": "markdown",
   "metadata": {},
   "source": [
    "#### Import the libraries"
   ]
  },
  {
   "cell_type": "code",
   "execution_count": 1,
   "metadata": {},
   "outputs": [
    {
     "name": "stdout",
     "output_type": "stream",
     "text": [
      "WARNING:tensorflow:From C:\\Users\\Administrator.DAI-PC2\\AppData\\Roaming\\Python\\Python311\\site-packages\\keras\\src\\losses.py:2976: The name tf.losses.sparse_softmax_cross_entropy is deprecated. Please use tf.compat.v1.losses.sparse_softmax_cross_entropy instead.\n",
      "\n"
     ]
    }
   ],
   "source": [
    "import pandas as pd \n",
    "import numpy as np \n",
    "from keras.preprocessing.text import Tokenizer\n",
    "from keras.utils import plot_model\n",
    "from keras.models import Sequential\n",
    "from keras.layers import Dense, Embedding, GRU, LSTM\n",
    "from keras.preprocessing.sequence import pad_sequences\n",
    "from sklearn.model_selection import train_test_split\n",
    "import re\n",
    "import keras"
   ]
  },
  {
   "cell_type": "markdown",
   "metadata": {},
   "source": [
    "### Define the source data"
   ]
  },
  {
   "cell_type": "code",
   "execution_count": 2,
   "metadata": {},
   "outputs": [],
   "source": [
    "#Sample text data\n",
    "\n",
    "text_data= [\n",
    "    \"hello how are you \",\n",
    "    \"hello how have you been\",\n",
    "    \"hi there\",\n",
    "    \"good morning\",\n",
    "    \"good night\",\n",
    "    \"have a nice day\",\n",
    "    \"how is it going\",\n",
    "    \"how have you been\",\n",
    "    \"nice to meet you\"\n",
    "    \"thank you\"\n",
    "]"
   ]
  },
  {
   "cell_type": "markdown",
   "metadata": {},
   "source": [
    "#### Create the tokenizer"
   ]
  },
  {
   "cell_type": "code",
   "execution_count": 3,
   "metadata": {},
   "outputs": [],
   "source": [
    "#prepare the tokenizer\n",
    "tokenizer = Tokenizer()\n",
    "tokenizer.fit_on_texts(text_data)\n",
    "total_words = len(tokenizer.word_index) + 1"
   ]
  },
  {
   "cell_type": "code",
   "execution_count": 4,
   "metadata": {},
   "outputs": [
    {
     "data": {
      "text/plain": [
       "21"
      ]
     },
     "execution_count": 4,
     "metadata": {},
     "output_type": "execute_result"
    }
   ],
   "source": [
    "total_words"
   ]
  },
  {
   "cell_type": "code",
   "execution_count": 5,
   "metadata": {},
   "outputs": [
    {
     "data": {
      "text/plain": [
       "{'how': 1,\n",
       " 'you': 2,\n",
       " 'have': 3,\n",
       " 'hello': 4,\n",
       " 'been': 5,\n",
       " 'good': 6,\n",
       " 'nice': 7,\n",
       " 'are': 8,\n",
       " 'hi': 9,\n",
       " 'there': 10,\n",
       " 'morning': 11,\n",
       " 'night': 12,\n",
       " 'a': 13,\n",
       " 'day': 14,\n",
       " 'is': 15,\n",
       " 'it': 16,\n",
       " 'going': 17,\n",
       " 'to': 18,\n",
       " 'meet': 19,\n",
       " 'youthank': 20}"
      ]
     },
     "execution_count": 5,
     "metadata": {},
     "output_type": "execute_result"
    }
   ],
   "source": [
    "tokenizer.word_index"
   ]
  },
  {
   "cell_type": "markdown",
   "metadata": {},
   "source": [
    "### Prepare the input sequences"
   ]
  },
  {
   "cell_type": "code",
   "execution_count": 6,
   "metadata": {},
   "outputs": [],
   "source": [
    "#Create sequences of words\n",
    "input_sequences =[]\n",
    "for line in text_data:\n",
    "    token_list = tokenizer.texts_to_sequences([line])[0]\n",
    "    for i in range(1, len(token_list)):\n",
    "        n_gram_sequence =token_list[:i+1]\n",
    "        input_sequences.append(n_gram_sequence)"
   ]
  },
  {
   "cell_type": "code",
   "execution_count": 7,
   "metadata": {},
   "outputs": [
    {
     "data": {
      "text/plain": [
       "[[4, 1],\n",
       " [4, 1, 8],\n",
       " [4, 1, 8, 2],\n",
       " [4, 1],\n",
       " [4, 1, 3],\n",
       " [4, 1, 3, 2],\n",
       " [4, 1, 3, 2, 5],\n",
       " [9, 10],\n",
       " [6, 11],\n",
       " [6, 12],\n",
       " [3, 13],\n",
       " [3, 13, 7],\n",
       " [3, 13, 7, 14],\n",
       " [1, 15],\n",
       " [1, 15, 16],\n",
       " [1, 15, 16, 17],\n",
       " [1, 3],\n",
       " [1, 3, 2],\n",
       " [1, 3, 2, 5],\n",
       " [7, 18],\n",
       " [7, 18, 19],\n",
       " [7, 18, 19, 20],\n",
       " [7, 18, 19, 20, 2]]"
      ]
     },
     "execution_count": 7,
     "metadata": {},
     "output_type": "execute_result"
    }
   ],
   "source": [
    "input_sequences"
   ]
  },
  {
   "cell_type": "markdown",
   "metadata": {},
   "source": [
    "### padding of sequences"
   ]
  },
  {
   "cell_type": "code",
   "execution_count": 8,
   "metadata": {},
   "outputs": [],
   "source": [
    "max_sequence_len = max([len(x) for x in input_sequences])\n",
    "input_sequences= pad_sequences(\n",
    "    input_sequences, maxlen=max_sequence_len , padding ='pre')"
   ]
  },
  {
   "cell_type": "code",
   "execution_count": 9,
   "metadata": {},
   "outputs": [
    {
     "data": {
      "text/plain": [
       "array([[ 0,  0,  0,  4,  1],\n",
       "       [ 0,  0,  4,  1,  8],\n",
       "       [ 0,  4,  1,  8,  2],\n",
       "       [ 0,  0,  0,  4,  1],\n",
       "       [ 0,  0,  4,  1,  3],\n",
       "       [ 0,  4,  1,  3,  2],\n",
       "       [ 4,  1,  3,  2,  5],\n",
       "       [ 0,  0,  0,  9, 10],\n",
       "       [ 0,  0,  0,  6, 11],\n",
       "       [ 0,  0,  0,  6, 12],\n",
       "       [ 0,  0,  0,  3, 13],\n",
       "       [ 0,  0,  3, 13,  7],\n",
       "       [ 0,  3, 13,  7, 14],\n",
       "       [ 0,  0,  0,  1, 15],\n",
       "       [ 0,  0,  1, 15, 16],\n",
       "       [ 0,  1, 15, 16, 17],\n",
       "       [ 0,  0,  0,  1,  3],\n",
       "       [ 0,  0,  1,  3,  2],\n",
       "       [ 0,  1,  3,  2,  5],\n",
       "       [ 0,  0,  0,  7, 18],\n",
       "       [ 0,  0,  7, 18, 19],\n",
       "       [ 0,  7, 18, 19, 20],\n",
       "       [ 7, 18, 19, 20,  2]])"
      ]
     },
     "execution_count": 9,
     "metadata": {},
     "output_type": "execute_result"
    }
   ],
   "source": [
    "input_sequences"
   ]
  },
  {
   "cell_type": "markdown",
   "metadata": {},
   "source": [
    "### Split into features and labelsm"
   ]
  },
  {
   "cell_type": "code",
   "execution_count": 11,
   "metadata": {},
   "outputs": [],
   "source": [
    "input_sequences = np.array(input_sequences)\n",
    "X,y = input_sequences[:,:-1], input_sequences[:,-1]\n",
    "y = keras.utils.to_categorical(y, num_classes= total_words)"
   ]
  },
  {
   "cell_type": "code",
   "execution_count": 12,
   "metadata": {},
   "outputs": [
    {
     "data": {
      "text/plain": [
       "array([ 1,  8,  2,  1,  3,  2,  5, 10, 11, 12, 13,  7, 14, 15, 16, 17,  3,\n",
       "        2,  5, 18, 19, 20,  2])"
      ]
     },
     "execution_count": 12,
     "metadata": {},
     "output_type": "execute_result"
    }
   ],
   "source": [
    "input_sequences[:,-1]"
   ]
  },
  {
   "cell_type": "code",
   "execution_count": 13,
   "metadata": {},
   "outputs": [
    {
     "data": {
      "text/plain": [
       "array([[0., 1., 0., 0., 0., 0., 0., 0., 0., 0., 0., 0., 0., 0., 0., 0.,\n",
       "        0., 0., 0., 0., 0.],\n",
       "       [0., 0., 0., 0., 0., 0., 0., 0., 1., 0., 0., 0., 0., 0., 0., 0.,\n",
       "        0., 0., 0., 0., 0.],\n",
       "       [0., 0., 1., 0., 0., 0., 0., 0., 0., 0., 0., 0., 0., 0., 0., 0.,\n",
       "        0., 0., 0., 0., 0.],\n",
       "       [0., 1., 0., 0., 0., 0., 0., 0., 0., 0., 0., 0., 0., 0., 0., 0.,\n",
       "        0., 0., 0., 0., 0.],\n",
       "       [0., 0., 0., 1., 0., 0., 0., 0., 0., 0., 0., 0., 0., 0., 0., 0.,\n",
       "        0., 0., 0., 0., 0.],\n",
       "       [0., 0., 1., 0., 0., 0., 0., 0., 0., 0., 0., 0., 0., 0., 0., 0.,\n",
       "        0., 0., 0., 0., 0.],\n",
       "       [0., 0., 0., 0., 0., 1., 0., 0., 0., 0., 0., 0., 0., 0., 0., 0.,\n",
       "        0., 0., 0., 0., 0.],\n",
       "       [0., 0., 0., 0., 0., 0., 0., 0., 0., 0., 1., 0., 0., 0., 0., 0.,\n",
       "        0., 0., 0., 0., 0.],\n",
       "       [0., 0., 0., 0., 0., 0., 0., 0., 0., 0., 0., 1., 0., 0., 0., 0.,\n",
       "        0., 0., 0., 0., 0.],\n",
       "       [0., 0., 0., 0., 0., 0., 0., 0., 0., 0., 0., 0., 1., 0., 0., 0.,\n",
       "        0., 0., 0., 0., 0.],\n",
       "       [0., 0., 0., 0., 0., 0., 0., 0., 0., 0., 0., 0., 0., 1., 0., 0.,\n",
       "        0., 0., 0., 0., 0.],\n",
       "       [0., 0., 0., 0., 0., 0., 0., 1., 0., 0., 0., 0., 0., 0., 0., 0.,\n",
       "        0., 0., 0., 0., 0.],\n",
       "       [0., 0., 0., 0., 0., 0., 0., 0., 0., 0., 0., 0., 0., 0., 1., 0.,\n",
       "        0., 0., 0., 0., 0.],\n",
       "       [0., 0., 0., 0., 0., 0., 0., 0., 0., 0., 0., 0., 0., 0., 0., 1.,\n",
       "        0., 0., 0., 0., 0.],\n",
       "       [0., 0., 0., 0., 0., 0., 0., 0., 0., 0., 0., 0., 0., 0., 0., 0.,\n",
       "        1., 0., 0., 0., 0.],\n",
       "       [0., 0., 0., 0., 0., 0., 0., 0., 0., 0., 0., 0., 0., 0., 0., 0.,\n",
       "        0., 1., 0., 0., 0.],\n",
       "       [0., 0., 0., 1., 0., 0., 0., 0., 0., 0., 0., 0., 0., 0., 0., 0.,\n",
       "        0., 0., 0., 0., 0.],\n",
       "       [0., 0., 1., 0., 0., 0., 0., 0., 0., 0., 0., 0., 0., 0., 0., 0.,\n",
       "        0., 0., 0., 0., 0.],\n",
       "       [0., 0., 0., 0., 0., 1., 0., 0., 0., 0., 0., 0., 0., 0., 0., 0.,\n",
       "        0., 0., 0., 0., 0.],\n",
       "       [0., 0., 0., 0., 0., 0., 0., 0., 0., 0., 0., 0., 0., 0., 0., 0.,\n",
       "        0., 0., 1., 0., 0.],\n",
       "       [0., 0., 0., 0., 0., 0., 0., 0., 0., 0., 0., 0., 0., 0., 0., 0.,\n",
       "        0., 0., 0., 1., 0.],\n",
       "       [0., 0., 0., 0., 0., 0., 0., 0., 0., 0., 0., 0., 0., 0., 0., 0.,\n",
       "        0., 0., 0., 0., 1.],\n",
       "       [0., 0., 1., 0., 0., 0., 0., 0., 0., 0., 0., 0., 0., 0., 0., 0.,\n",
       "        0., 0., 0., 0., 0.]], dtype=float32)"
      ]
     },
     "execution_count": 13,
     "metadata": {},
     "output_type": "execute_result"
    }
   ],
   "source": [
    "y"
   ]
  },
  {
   "cell_type": "markdown",
   "metadata": {},
   "source": [
    "#### Build the model"
   ]
  },
  {
   "cell_type": "code",
   "execution_count": 16,
   "metadata": {},
   "outputs": [],
   "source": [
    "#build the RNN model\n",
    "model =Sequential()\n",
    "model.add(Embedding(total_words, 10, input_length= max_sequence_len-1))\n",
    "model.add(LSTM(150, return_sequences=True))\n",
    "model.add(LSTM(150))\n",
    "model.add(Dense(total_words, activation='softmax'))"
   ]
  },
  {
   "cell_type": "code",
   "execution_count": 17,
   "metadata": {},
   "outputs": [
    {
     "name": "stdout",
     "output_type": "stream",
     "text": [
      "Model: \"sequential_2\"\n",
      "_________________________________________________________________\n",
      " Layer (type)                Output Shape              Param #   \n",
      "=================================================================\n",
      " embedding (Embedding)       (None, 4, 10)             210       \n",
      "                                                                 \n",
      " lstm (LSTM)                 (None, 4, 150)            96600     \n",
      "                                                                 \n",
      " lstm_1 (LSTM)               (None, 150)               180600    \n",
      "                                                                 \n",
      " dense (Dense)               (None, 21)                3171      \n",
      "                                                                 \n",
      "=================================================================\n",
      "Total params: 280581 (1.07 MB)\n",
      "Trainable params: 280581 (1.07 MB)\n",
      "Non-trainable params: 0 (0.00 Byte)\n",
      "_________________________________________________________________\n"
     ]
    }
   ],
   "source": [
    "model.summary()"
   ]
  },
  {
   "cell_type": "markdown",
   "metadata": {},
   "source": [
    "#### Compile the model"
   ]
  },
  {
   "cell_type": "code",
   "execution_count": 18,
   "metadata": {},
   "outputs": [
    {
     "name": "stdout",
     "output_type": "stream",
     "text": [
      "WARNING:tensorflow:From C:\\Users\\Administrator.DAI-PC2\\AppData\\Roaming\\Python\\Python311\\site-packages\\keras\\src\\optimizers\\__init__.py:309: The name tf.train.Optimizer is deprecated. Please use tf.compat.v1.train.Optimizer instead.\n",
      "\n"
     ]
    }
   ],
   "source": [
    "model.compile(loss = 'categorical_crossentropy',\n",
    "                optimizer='adam',\n",
    "                metrics='accuracy')"
   ]
  },
  {
   "cell_type": "markdown",
   "metadata": {},
   "source": [
    "### Train the model"
   ]
  },
  {
   "cell_type": "code",
   "execution_count": 19,
   "metadata": {},
   "outputs": [
    {
     "name": "stdout",
     "output_type": "stream",
     "text": [
      "Epoch 1/200\n",
      "WARNING:tensorflow:From C:\\Users\\Administrator.DAI-PC2\\AppData\\Roaming\\Python\\Python311\\site-packages\\keras\\src\\utils\\tf_utils.py:492: The name tf.ragged.RaggedTensorValue is deprecated. Please use tf.compat.v1.ragged.RaggedTensorValue instead.\n",
      "\n",
      "WARNING:tensorflow:From C:\\Users\\Administrator.DAI-PC2\\AppData\\Roaming\\Python\\Python311\\site-packages\\keras\\src\\engine\\base_layer_utils.py:384: The name tf.executing_eagerly_outside_functions is deprecated. Please use tf.compat.v1.executing_eagerly_outside_functions instead.\n",
      "\n",
      "23/23 [==============================] - 7s 9ms/step - loss: 3.0494 - accuracy: 0.0435\n",
      "Epoch 2/200\n",
      "23/23 [==============================] - 0s 8ms/step - loss: 3.0175 - accuracy: 0.1739\n",
      "Epoch 3/200\n",
      "23/23 [==============================] - 0s 8ms/step - loss: 2.9462 - accuracy: 0.1739\n",
      "Epoch 4/200\n",
      "23/23 [==============================] - 0s 8ms/step - loss: 2.9104 - accuracy: 0.1739\n",
      "Epoch 5/200\n",
      "23/23 [==============================] - 0s 8ms/step - loss: 2.8232 - accuracy: 0.1739\n",
      "Epoch 6/200\n",
      "23/23 [==============================] - 0s 8ms/step - loss: 2.7483 - accuracy: 0.1739\n",
      "Epoch 7/200\n",
      "23/23 [==============================] - 0s 8ms/step - loss: 2.7167 - accuracy: 0.1739\n",
      "Epoch 8/200\n",
      "23/23 [==============================] - 0s 8ms/step - loss: 2.6280 - accuracy: 0.1739\n",
      "Epoch 9/200\n",
      "23/23 [==============================] - 0s 7ms/step - loss: 2.5215 - accuracy: 0.1739\n",
      "Epoch 10/200\n",
      "23/23 [==============================] - 0s 8ms/step - loss: 2.4164 - accuracy: 0.1304\n",
      "Epoch 11/200\n",
      "23/23 [==============================] - 0s 7ms/step - loss: 2.3265 - accuracy: 0.2174\n",
      "Epoch 12/200\n",
      "23/23 [==============================] - 0s 7ms/step - loss: 2.2288 - accuracy: 0.2609\n",
      "Epoch 13/200\n",
      "23/23 [==============================] - 0s 8ms/step - loss: 2.1531 - accuracy: 0.2609\n",
      "Epoch 14/200\n",
      "23/23 [==============================] - 0s 8ms/step - loss: 2.1239 - accuracy: 0.3043\n",
      "Epoch 15/200\n",
      "23/23 [==============================] - 0s 8ms/step - loss: 2.0826 - accuracy: 0.2174\n",
      "Epoch 16/200\n",
      "23/23 [==============================] - 0s 8ms/step - loss: 1.9455 - accuracy: 0.3043\n",
      "Epoch 17/200\n",
      "23/23 [==============================] - 0s 7ms/step - loss: 1.7741 - accuracy: 0.3478\n",
      "Epoch 18/200\n",
      "23/23 [==============================] - 0s 8ms/step - loss: 1.6134 - accuracy: 0.3913\n",
      "Epoch 19/200\n",
      "23/23 [==============================] - 0s 7ms/step - loss: 1.4388 - accuracy: 0.4348\n",
      "Epoch 20/200\n",
      "23/23 [==============================] - 0s 8ms/step - loss: 1.3569 - accuracy: 0.4783\n",
      "Epoch 21/200\n",
      "23/23 [==============================] - 0s 7ms/step - loss: 1.1828 - accuracy: 0.5652\n",
      "Epoch 22/200\n",
      "23/23 [==============================] - 0s 7ms/step - loss: 1.0522 - accuracy: 0.6522\n",
      "Epoch 23/200\n",
      "23/23 [==============================] - 0s 8ms/step - loss: 1.1296 - accuracy: 0.5217\n",
      "Epoch 24/200\n",
      "23/23 [==============================] - 0s 8ms/step - loss: 0.9930 - accuracy: 0.5217\n",
      "Epoch 25/200\n",
      "23/23 [==============================] - 0s 8ms/step - loss: 0.8736 - accuracy: 0.6957\n",
      "Epoch 26/200\n",
      "23/23 [==============================] - 0s 8ms/step - loss: 0.8144 - accuracy: 0.6957\n",
      "Epoch 27/200\n",
      "23/23 [==============================] - 0s 7ms/step - loss: 0.8406 - accuracy: 0.5652\n",
      "Epoch 28/200\n",
      "23/23 [==============================] - 0s 8ms/step - loss: 0.7871 - accuracy: 0.6522\n",
      "Epoch 29/200\n",
      "23/23 [==============================] - 0s 8ms/step - loss: 0.6835 - accuracy: 0.7826\n",
      "Epoch 30/200\n",
      "23/23 [==============================] - 0s 7ms/step - loss: 0.5593 - accuracy: 0.7826\n",
      "Epoch 31/200\n",
      "23/23 [==============================] - 0s 7ms/step - loss: 0.5218 - accuracy: 0.7391\n",
      "Epoch 32/200\n",
      "23/23 [==============================] - 0s 8ms/step - loss: 0.5216 - accuracy: 0.7391\n",
      "Epoch 33/200\n",
      "23/23 [==============================] - 0s 7ms/step - loss: 0.4832 - accuracy: 0.6957\n",
      "Epoch 34/200\n",
      "23/23 [==============================] - 0s 8ms/step - loss: 0.4376 - accuracy: 0.7826\n",
      "Epoch 35/200\n",
      "23/23 [==============================] - 0s 7ms/step - loss: 0.4434 - accuracy: 0.8261\n",
      "Epoch 36/200\n",
      "23/23 [==============================] - 0s 8ms/step - loss: 0.3826 - accuracy: 0.8261\n",
      "Epoch 37/200\n",
      "23/23 [==============================] - 0s 8ms/step - loss: 0.4400 - accuracy: 0.6957\n",
      "Epoch 38/200\n",
      "23/23 [==============================] - 0s 8ms/step - loss: 0.4209 - accuracy: 0.6957\n",
      "Epoch 39/200\n",
      "23/23 [==============================] - 0s 7ms/step - loss: 0.3473 - accuracy: 0.8261\n",
      "Epoch 40/200\n",
      "23/23 [==============================] - 0s 8ms/step - loss: 0.3328 - accuracy: 0.8261\n",
      "Epoch 41/200\n",
      "23/23 [==============================] - 0s 10ms/step - loss: 0.3177 - accuracy: 0.8261\n",
      "Epoch 42/200\n",
      "23/23 [==============================] - 0s 8ms/step - loss: 0.3035 - accuracy: 0.7826\n",
      "Epoch 43/200\n",
      "23/23 [==============================] - 0s 7ms/step - loss: 0.2913 - accuracy: 0.8261\n",
      "Epoch 44/200\n",
      "23/23 [==============================] - 0s 7ms/step - loss: 0.2946 - accuracy: 0.8261\n",
      "Epoch 45/200\n",
      "23/23 [==============================] - 0s 7ms/step - loss: 0.3071 - accuracy: 0.8696\n",
      "Epoch 46/200\n",
      "23/23 [==============================] - 0s 8ms/step - loss: 0.2787 - accuracy: 0.7826\n",
      "Epoch 47/200\n",
      "23/23 [==============================] - 0s 8ms/step - loss: 0.3130 - accuracy: 0.7391\n",
      "Epoch 48/200\n",
      "23/23 [==============================] - 0s 8ms/step - loss: 0.3418 - accuracy: 0.6957\n",
      "Epoch 49/200\n",
      "23/23 [==============================] - 0s 7ms/step - loss: 0.3177 - accuracy: 0.7826\n",
      "Epoch 50/200\n",
      "23/23 [==============================] - 0s 8ms/step - loss: 0.2720 - accuracy: 0.8261\n",
      "Epoch 51/200\n",
      "23/23 [==============================] - 0s 9ms/step - loss: 0.2795 - accuracy: 0.7826\n",
      "Epoch 52/200\n",
      "23/23 [==============================] - 0s 8ms/step - loss: 0.2525 - accuracy: 0.8261\n",
      "Epoch 53/200\n",
      "23/23 [==============================] - 0s 8ms/step - loss: 0.2791 - accuracy: 0.8261\n",
      "Epoch 54/200\n",
      "23/23 [==============================] - 0s 8ms/step - loss: 0.2390 - accuracy: 0.8696\n",
      "Epoch 55/200\n",
      "23/23 [==============================] - 0s 8ms/step - loss: 0.2576 - accuracy: 0.7826\n",
      "Epoch 56/200\n",
      "23/23 [==============================] - 0s 8ms/step - loss: 0.2716 - accuracy: 0.7826\n",
      "Epoch 57/200\n",
      "23/23 [==============================] - 0s 8ms/step - loss: 0.2400 - accuracy: 0.7826\n",
      "Epoch 58/200\n",
      "23/23 [==============================] - 0s 8ms/step - loss: 0.2308 - accuracy: 0.8261\n",
      "Epoch 59/200\n",
      "23/23 [==============================] - 0s 8ms/step - loss: 0.2315 - accuracy: 0.8696\n",
      "Epoch 60/200\n",
      "23/23 [==============================] - 0s 8ms/step - loss: 0.2316 - accuracy: 0.8261\n",
      "Epoch 61/200\n",
      "23/23 [==============================] - 0s 7ms/step - loss: 0.2256 - accuracy: 0.8696\n",
      "Epoch 62/200\n",
      "23/23 [==============================] - 0s 8ms/step - loss: 0.2359 - accuracy: 0.8261\n",
      "Epoch 63/200\n",
      "23/23 [==============================] - 0s 8ms/step - loss: 0.2326 - accuracy: 0.7391\n",
      "Epoch 64/200\n",
      "23/23 [==============================] - 0s 8ms/step - loss: 0.2353 - accuracy: 0.8261\n",
      "Epoch 65/200\n",
      "23/23 [==============================] - 0s 7ms/step - loss: 0.2202 - accuracy: 0.8261\n",
      "Epoch 66/200\n",
      "23/23 [==============================] - 0s 8ms/step - loss: 0.2278 - accuracy: 0.8261\n",
      "Epoch 67/200\n",
      "23/23 [==============================] - 0s 8ms/step - loss: 0.2300 - accuracy: 0.7826\n",
      "Epoch 68/200\n",
      "23/23 [==============================] - 0s 8ms/step - loss: 0.2269 - accuracy: 0.7391\n",
      "Epoch 69/200\n",
      "23/23 [==============================] - 0s 8ms/step - loss: 0.2372 - accuracy: 0.7826\n",
      "Epoch 70/200\n",
      "23/23 [==============================] - 0s 8ms/step - loss: 0.2218 - accuracy: 0.7826\n",
      "Epoch 71/200\n",
      "23/23 [==============================] - 0s 8ms/step - loss: 0.2211 - accuracy: 0.8696\n",
      "Epoch 72/200\n",
      "23/23 [==============================] - 0s 7ms/step - loss: 0.2312 - accuracy: 0.7391\n",
      "Epoch 73/200\n",
      "23/23 [==============================] - 0s 9ms/step - loss: 0.2114 - accuracy: 0.8261\n",
      "Epoch 74/200\n",
      "23/23 [==============================] - 0s 8ms/step - loss: 0.2183 - accuracy: 0.8261\n",
      "Epoch 75/200\n",
      "23/23 [==============================] - 0s 7ms/step - loss: 0.2196 - accuracy: 0.8261\n",
      "Epoch 76/200\n",
      "23/23 [==============================] - 0s 7ms/step - loss: 0.2205 - accuracy: 0.7826\n",
      "Epoch 77/200\n",
      "23/23 [==============================] - 0s 8ms/step - loss: 0.2138 - accuracy: 0.8696\n",
      "Epoch 78/200\n",
      "23/23 [==============================] - 0s 8ms/step - loss: 0.2179 - accuracy: 0.8696\n",
      "Epoch 79/200\n",
      "23/23 [==============================] - 0s 8ms/step - loss: 0.2129 - accuracy: 0.8261\n",
      "Epoch 80/200\n",
      "23/23 [==============================] - 0s 7ms/step - loss: 0.2218 - accuracy: 0.8696\n",
      "Epoch 81/200\n",
      "23/23 [==============================] - 0s 8ms/step - loss: 0.2304 - accuracy: 0.7826\n",
      "Epoch 82/200\n",
      "23/23 [==============================] - 0s 7ms/step - loss: 0.2076 - accuracy: 0.8696\n",
      "Epoch 83/200\n",
      "23/23 [==============================] - 0s 7ms/step - loss: 0.2100 - accuracy: 0.8261\n",
      "Epoch 84/200\n",
      "23/23 [==============================] - 0s 8ms/step - loss: 0.2173 - accuracy: 0.8261\n",
      "Epoch 85/200\n",
      "23/23 [==============================] - 0s 8ms/step - loss: 0.2238 - accuracy: 0.7826\n",
      "Epoch 86/200\n",
      "23/23 [==============================] - 0s 7ms/step - loss: 0.2183 - accuracy: 0.7826\n",
      "Epoch 87/200\n",
      "23/23 [==============================] - 0s 7ms/step - loss: 0.2149 - accuracy: 0.8696\n",
      "Epoch 88/200\n",
      "23/23 [==============================] - 0s 7ms/step - loss: 0.2074 - accuracy: 0.8261\n",
      "Epoch 89/200\n",
      "23/23 [==============================] - 0s 8ms/step - loss: 0.2104 - accuracy: 0.7826\n",
      "Epoch 90/200\n",
      "23/23 [==============================] - 0s 7ms/step - loss: 0.2096 - accuracy: 0.8261\n",
      "Epoch 91/200\n",
      "23/23 [==============================] - 0s 8ms/step - loss: 0.2112 - accuracy: 0.8261\n",
      "Epoch 92/200\n",
      "23/23 [==============================] - 0s 7ms/step - loss: 0.2120 - accuracy: 0.8261\n",
      "Epoch 93/200\n",
      "23/23 [==============================] - 0s 8ms/step - loss: 0.2056 - accuracy: 0.8696\n",
      "Epoch 94/200\n",
      "23/23 [==============================] - 0s 7ms/step - loss: 0.2147 - accuracy: 0.8261\n",
      "Epoch 95/200\n",
      "23/23 [==============================] - 0s 7ms/step - loss: 0.2140 - accuracy: 0.7826\n",
      "Epoch 96/200\n",
      "23/23 [==============================] - 0s 8ms/step - loss: 0.2171 - accuracy: 0.7826\n",
      "Epoch 97/200\n",
      "23/23 [==============================] - 0s 7ms/step - loss: 0.2234 - accuracy: 0.8261\n",
      "Epoch 98/200\n",
      "23/23 [==============================] - 0s 8ms/step - loss: 0.2104 - accuracy: 0.7826\n",
      "Epoch 99/200\n",
      "23/23 [==============================] - 0s 7ms/step - loss: 0.2201 - accuracy: 0.7826\n",
      "Epoch 100/200\n",
      "23/23 [==============================] - 0s 7ms/step - loss: 0.2155 - accuracy: 0.8261\n",
      "Epoch 101/200\n",
      "23/23 [==============================] - 0s 8ms/step - loss: 0.2083 - accuracy: 0.7826\n",
      "Epoch 102/200\n",
      "23/23 [==============================] - 0s 8ms/step - loss: 0.2057 - accuracy: 0.7826\n",
      "Epoch 103/200\n",
      "23/23 [==============================] - 0s 8ms/step - loss: 0.2062 - accuracy: 0.8696\n",
      "Epoch 104/200\n",
      "23/23 [==============================] - 0s 8ms/step - loss: 0.2005 - accuracy: 0.8696\n",
      "Epoch 105/200\n",
      "23/23 [==============================] - 0s 10ms/step - loss: 0.2088 - accuracy: 0.7826\n",
      "Epoch 106/200\n",
      "23/23 [==============================] - 0s 8ms/step - loss: 0.2005 - accuracy: 0.7826\n",
      "Epoch 107/200\n",
      "23/23 [==============================] - 0s 8ms/step - loss: 0.2023 - accuracy: 0.7391\n",
      "Epoch 108/200\n",
      "23/23 [==============================] - 0s 7ms/step - loss: 0.2280 - accuracy: 0.7826\n",
      "Epoch 109/200\n",
      "23/23 [==============================] - 0s 8ms/step - loss: 0.1964 - accuracy: 0.8696\n",
      "Epoch 110/200\n",
      "23/23 [==============================] - 0s 7ms/step - loss: 0.2044 - accuracy: 0.7391\n",
      "Epoch 111/200\n",
      "23/23 [==============================] - 0s 8ms/step - loss: 0.2115 - accuracy: 0.7826\n",
      "Epoch 112/200\n",
      "23/23 [==============================] - 0s 8ms/step - loss: 0.2077 - accuracy: 0.8261\n",
      "Epoch 113/200\n",
      "23/23 [==============================] - 0s 8ms/step - loss: 0.2006 - accuracy: 0.8696\n",
      "Epoch 114/200\n",
      "23/23 [==============================] - 0s 7ms/step - loss: 0.2132 - accuracy: 0.8696\n",
      "Epoch 115/200\n",
      "23/23 [==============================] - 0s 8ms/step - loss: 0.2093 - accuracy: 0.8261\n",
      "Epoch 116/200\n",
      "23/23 [==============================] - 0s 7ms/step - loss: 0.2036 - accuracy: 0.7826\n",
      "Epoch 117/200\n",
      "23/23 [==============================] - 0s 8ms/step - loss: 0.2004 - accuracy: 0.8261\n",
      "Epoch 118/200\n",
      "23/23 [==============================] - 0s 8ms/step - loss: 0.2130 - accuracy: 0.8261\n",
      "Epoch 119/200\n",
      "23/23 [==============================] - 0s 8ms/step - loss: 0.2004 - accuracy: 0.8261\n",
      "Epoch 120/200\n",
      "23/23 [==============================] - 0s 7ms/step - loss: 0.1991 - accuracy: 0.7826\n",
      "Epoch 121/200\n",
      "23/23 [==============================] - 0s 8ms/step - loss: 0.1985 - accuracy: 0.8261\n",
      "Epoch 122/200\n",
      "23/23 [==============================] - 0s 8ms/step - loss: 0.2017 - accuracy: 0.8261\n",
      "Epoch 123/200\n",
      "23/23 [==============================] - 0s 7ms/step - loss: 0.2024 - accuracy: 0.8261\n",
      "Epoch 124/200\n",
      "23/23 [==============================] - 0s 8ms/step - loss: 0.2053 - accuracy: 0.7826\n",
      "Epoch 125/200\n",
      "23/23 [==============================] - 0s 8ms/step - loss: 0.1909 - accuracy: 0.8696\n",
      "Epoch 126/200\n",
      "23/23 [==============================] - 0s 7ms/step - loss: 0.2041 - accuracy: 0.7826\n",
      "Epoch 127/200\n",
      "23/23 [==============================] - 0s 7ms/step - loss: 0.2123 - accuracy: 0.8261\n",
      "Epoch 128/200\n",
      "23/23 [==============================] - 0s 8ms/step - loss: 0.1966 - accuracy: 0.8696\n",
      "Epoch 129/200\n",
      "23/23 [==============================] - 0s 8ms/step - loss: 0.2003 - accuracy: 0.8696\n",
      "Epoch 130/200\n",
      "23/23 [==============================] - 0s 8ms/step - loss: 0.2026 - accuracy: 0.8261\n",
      "Epoch 131/200\n",
      "23/23 [==============================] - 0s 8ms/step - loss: 0.2031 - accuracy: 0.8261\n",
      "Epoch 132/200\n",
      "23/23 [==============================] - 0s 8ms/step - loss: 0.1963 - accuracy: 0.7826\n",
      "Epoch 133/200\n",
      "23/23 [==============================] - 0s 10ms/step - loss: 0.2064 - accuracy: 0.7391\n",
      "Epoch 134/200\n",
      "23/23 [==============================] - 0s 8ms/step - loss: 0.2030 - accuracy: 0.7391\n",
      "Epoch 135/200\n",
      "23/23 [==============================] - 0s 7ms/step - loss: 0.1963 - accuracy: 0.8261\n",
      "Epoch 136/200\n",
      "23/23 [==============================] - 0s 9ms/step - loss: 0.1996 - accuracy: 0.7826\n",
      "Epoch 137/200\n",
      "23/23 [==============================] - 0s 8ms/step - loss: 0.2070 - accuracy: 0.7826\n",
      "Epoch 138/200\n",
      "23/23 [==============================] - 0s 8ms/step - loss: 0.2004 - accuracy: 0.8261\n",
      "Epoch 139/200\n",
      "23/23 [==============================] - 0s 8ms/step - loss: 0.1922 - accuracy: 0.8696\n",
      "Epoch 140/200\n",
      "23/23 [==============================] - 0s 8ms/step - loss: 0.2059 - accuracy: 0.7826\n",
      "Epoch 141/200\n",
      "23/23 [==============================] - 0s 8ms/step - loss: 0.2023 - accuracy: 0.7391\n",
      "Epoch 142/200\n",
      "23/23 [==============================] - 0s 9ms/step - loss: 0.1978 - accuracy: 0.8261\n",
      "Epoch 143/200\n",
      "23/23 [==============================] - 0s 7ms/step - loss: 0.2001 - accuracy: 0.8261\n",
      "Epoch 144/200\n",
      "23/23 [==============================] - 0s 8ms/step - loss: 0.2024 - accuracy: 0.7826\n",
      "Epoch 145/200\n",
      "23/23 [==============================] - 0s 7ms/step - loss: 0.2038 - accuracy: 0.8261\n",
      "Epoch 146/200\n",
      "23/23 [==============================] - 0s 8ms/step - loss: 0.2034 - accuracy: 0.7826\n",
      "Epoch 147/200\n",
      "23/23 [==============================] - 0s 8ms/step - loss: 0.1985 - accuracy: 0.8696\n",
      "Epoch 148/200\n",
      "23/23 [==============================] - 0s 8ms/step - loss: 0.2167 - accuracy: 0.7826\n",
      "Epoch 149/200\n",
      "23/23 [==============================] - 0s 9ms/step - loss: 0.2130 - accuracy: 0.8261\n",
      "Epoch 150/200\n",
      "23/23 [==============================] - 0s 8ms/step - loss: 0.2151 - accuracy: 0.7826\n",
      "Epoch 151/200\n",
      "23/23 [==============================] - 0s 8ms/step - loss: 0.2097 - accuracy: 0.7826\n",
      "Epoch 152/200\n",
      "23/23 [==============================] - 0s 8ms/step - loss: 0.2197 - accuracy: 0.8261\n",
      "Epoch 153/200\n",
      "23/23 [==============================] - 0s 7ms/step - loss: 0.2019 - accuracy: 0.7826\n",
      "Epoch 154/200\n",
      "23/23 [==============================] - 0s 7ms/step - loss: 0.1988 - accuracy: 0.8261\n",
      "Epoch 155/200\n",
      "23/23 [==============================] - 0s 8ms/step - loss: 0.2006 - accuracy: 0.8261\n",
      "Epoch 156/200\n",
      "23/23 [==============================] - 0s 7ms/step - loss: 0.2155 - accuracy: 0.7391\n",
      "Epoch 157/200\n",
      "23/23 [==============================] - 0s 8ms/step - loss: 0.2003 - accuracy: 0.8261\n",
      "Epoch 158/200\n",
      "23/23 [==============================] - 0s 8ms/step - loss: 0.2144 - accuracy: 0.7826\n",
      "Epoch 159/200\n",
      "23/23 [==============================] - 0s 7ms/step - loss: 0.1939 - accuracy: 0.8261\n",
      "Epoch 160/200\n",
      "23/23 [==============================] - 0s 8ms/step - loss: 0.1921 - accuracy: 0.8261\n",
      "Epoch 161/200\n",
      "23/23 [==============================] - 0s 8ms/step - loss: 0.2072 - accuracy: 0.7826\n",
      "Epoch 162/200\n",
      "23/23 [==============================] - 0s 8ms/step - loss: 0.1928 - accuracy: 0.7391\n",
      "Epoch 163/200\n",
      "23/23 [==============================] - 0s 8ms/step - loss: 0.2093 - accuracy: 0.8261\n",
      "Epoch 164/200\n",
      "23/23 [==============================] - 0s 7ms/step - loss: 0.1984 - accuracy: 0.7826\n",
      "Epoch 165/200\n",
      "23/23 [==============================] - 0s 7ms/step - loss: 0.1977 - accuracy: 0.7826\n",
      "Epoch 166/200\n",
      "23/23 [==============================] - 0s 7ms/step - loss: 0.1948 - accuracy: 0.8261\n",
      "Epoch 167/200\n",
      "23/23 [==============================] - 0s 8ms/step - loss: 0.2005 - accuracy: 0.7391\n",
      "Epoch 168/200\n",
      "23/23 [==============================] - 0s 7ms/step - loss: 0.1963 - accuracy: 0.8261\n",
      "Epoch 169/200\n",
      "23/23 [==============================] - 0s 7ms/step - loss: 0.1961 - accuracy: 0.7826\n",
      "Epoch 170/200\n",
      "23/23 [==============================] - 0s 7ms/step - loss: 0.2043 - accuracy: 0.8261\n",
      "Epoch 171/200\n",
      "23/23 [==============================] - 0s 7ms/step - loss: 0.1867 - accuracy: 0.8261\n",
      "Epoch 172/200\n",
      "23/23 [==============================] - 0s 7ms/step - loss: 0.2013 - accuracy: 0.7391\n",
      "Epoch 173/200\n",
      "23/23 [==============================] - 0s 8ms/step - loss: 0.2025 - accuracy: 0.8696\n",
      "Epoch 174/200\n",
      "23/23 [==============================] - 0s 7ms/step - loss: 0.1970 - accuracy: 0.8261\n",
      "Epoch 175/200\n",
      "23/23 [==============================] - 0s 7ms/step - loss: 0.1995 - accuracy: 0.8261\n",
      "Epoch 176/200\n",
      "23/23 [==============================] - 0s 7ms/step - loss: 0.1965 - accuracy: 0.8261\n",
      "Epoch 177/200\n",
      "23/23 [==============================] - 0s 7ms/step - loss: 0.2115 - accuracy: 0.7826\n",
      "Epoch 178/200\n",
      "23/23 [==============================] - 0s 7ms/step - loss: 0.2028 - accuracy: 0.8261\n",
      "Epoch 179/200\n",
      "23/23 [==============================] - 0s 7ms/step - loss: 0.1948 - accuracy: 0.7826\n",
      "Epoch 180/200\n",
      "23/23 [==============================] - 0s 7ms/step - loss: 0.2060 - accuracy: 0.7826\n",
      "Epoch 181/200\n",
      "23/23 [==============================] - 0s 7ms/step - loss: 0.1947 - accuracy: 0.8261\n",
      "Epoch 182/200\n",
      "23/23 [==============================] - 0s 7ms/step - loss: 0.1941 - accuracy: 0.7391\n",
      "Epoch 183/200\n",
      "23/23 [==============================] - 0s 8ms/step - loss: 0.2026 - accuracy: 0.8261\n",
      "Epoch 184/200\n",
      "23/23 [==============================] - 0s 7ms/step - loss: 0.2181 - accuracy: 0.7391\n",
      "Epoch 185/200\n",
      "23/23 [==============================] - 0s 7ms/step - loss: 0.2024 - accuracy: 0.7826\n",
      "Epoch 186/200\n",
      "23/23 [==============================] - 0s 7ms/step - loss: 0.1885 - accuracy: 0.7826\n",
      "Epoch 187/200\n",
      "23/23 [==============================] - 0s 8ms/step - loss: 0.2062 - accuracy: 0.7826\n",
      "Epoch 188/200\n",
      "23/23 [==============================] - 0s 8ms/step - loss: 0.1919 - accuracy: 0.8696\n",
      "Epoch 189/200\n",
      "23/23 [==============================] - 0s 8ms/step - loss: 0.1946 - accuracy: 0.8261\n",
      "Epoch 190/200\n",
      "23/23 [==============================] - 0s 7ms/step - loss: 0.2053 - accuracy: 0.8261\n",
      "Epoch 191/200\n",
      "23/23 [==============================] - 0s 8ms/step - loss: 0.1932 - accuracy: 0.8261\n",
      "Epoch 192/200\n",
      "23/23 [==============================] - 0s 8ms/step - loss: 0.1931 - accuracy: 0.8261\n",
      "Epoch 193/200\n",
      "23/23 [==============================] - 0s 9ms/step - loss: 0.1956 - accuracy: 0.7391\n",
      "Epoch 194/200\n",
      "23/23 [==============================] - 0s 7ms/step - loss: 0.1994 - accuracy: 0.7391\n",
      "Epoch 195/200\n",
      "23/23 [==============================] - 0s 7ms/step - loss: 0.1955 - accuracy: 0.8696\n",
      "Epoch 196/200\n",
      "23/23 [==============================] - 0s 8ms/step - loss: 0.1978 - accuracy: 0.8261\n",
      "Epoch 197/200\n",
      "23/23 [==============================] - 0s 7ms/step - loss: 0.1919 - accuracy: 0.8696\n",
      "Epoch 198/200\n",
      "23/23 [==============================] - 0s 8ms/step - loss: 0.1952 - accuracy: 0.8696\n",
      "Epoch 199/200\n",
      "23/23 [==============================] - 0s 7ms/step - loss: 0.1971 - accuracy: 0.7826\n",
      "Epoch 200/200\n",
      "23/23 [==============================] - 0s 7ms/step - loss: 0.2076 - accuracy: 0.8261\n"
     ]
    },
    {
     "data": {
      "text/plain": [
       "<keras.src.callbacks.History at 0x1d3c8d09e90>"
      ]
     },
     "execution_count": 19,
     "metadata": {},
     "output_type": "execute_result"
    }
   ],
   "source": [
    "model.fit(X,y, epochs=200 , batch_size=1)"
   ]
  },
  {
   "cell_type": "markdown",
   "metadata": {},
   "source": [
    "### Prediction on new data"
   ]
  },
  {
   "cell_type": "code",
   "execution_count": 20,
   "metadata": {},
   "outputs": [],
   "source": [
    "new = 'nice'"
   ]
  },
  {
   "cell_type": "code",
   "execution_count": 23,
   "metadata": {},
   "outputs": [
    {
     "ename": "SyntaxError",
     "evalue": "incomplete input (1284590056.py, line 1)",
     "output_type": "error",
     "traceback": [
      "\u001b[1;36m  Cell \u001b[1;32mIn[23], line 1\u001b[1;36m\u001b[0m\n\u001b[1;33m    def predict_new_word(model, tokenizer, new,max_sequence_len):\u001b[0m\n\u001b[1;37m                                                                 ^\u001b[0m\n\u001b[1;31mSyntaxError\u001b[0m\u001b[1;31m:\u001b[0m incomplete input\n"
     ]
    }
   ],
   "source": [
    "def predict_new_word(model, tokenizer, new,max_sequence_len):\n"
   ]
  },
  {
   "cell_type": "code",
   "execution_count": 21,
   "metadata": {},
   "outputs": [
    {
     "ename": "NameError",
     "evalue": "name 'predict_next_word' is not defined",
     "output_type": "error",
     "traceback": [
      "\u001b[1;31m---------------------------------------------------------------------------\u001b[0m",
      "\u001b[1;31mNameError\u001b[0m                                 Traceback (most recent call last)",
      "Cell \u001b[1;32mIn[21], line 1\u001b[0m\n\u001b[1;32m----> 1\u001b[0m next_word \u001b[38;5;241m=\u001b[39m predict_next_word(model, tokenizer, new,max_sequence_len)\n\u001b[0;32m      2\u001b[0m \u001b[38;5;28mprint\u001b[39m(\u001b[38;5;124m\"\u001b[39m\u001b[38;5;124mNext word:\u001b[39m\u001b[38;5;124m\"\u001b[39m,next_word)\n",
      "\u001b[1;31mNameError\u001b[0m: name 'predict_next_word' is not defined"
     ]
    }
   ],
   "source": [
    "\n",
    "next_word = predict_next_word(model, tokenizer, new,max_sequence_len)\n",
    "print(\"Next word:\",next_word)\n"
   ]
  },
  {
   "cell_type": "code",
   "execution_count": null,
   "metadata": {},
   "outputs": [],
   "source": []
  }
 ],
 "metadata": {
  "kernelspec": {
   "display_name": "base",
   "language": "python",
   "name": "python3"
  },
  "language_info": {
   "codemirror_mode": {
    "name": "ipython",
    "version": 3
   },
   "file_extension": ".py",
   "mimetype": "text/x-python",
   "name": "python",
   "nbconvert_exporter": "python",
   "pygments_lexer": "ipython3",
   "version": "3.11.7"
  }
 },
 "nbformat": 4,
 "nbformat_minor": 2
}
