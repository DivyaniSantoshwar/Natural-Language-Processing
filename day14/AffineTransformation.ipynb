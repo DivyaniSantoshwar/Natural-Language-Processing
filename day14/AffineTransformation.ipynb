{
 "cells": [
  {
   "cell_type": "code",
   "execution_count": 1,
   "metadata": {},
   "outputs": [],
   "source": [
    "import cv2\n",
    "import numpy as np"
   ]
  },
  {
   "cell_type": "code",
   "execution_count": 7,
   "metadata": {},
   "outputs": [],
   "source": [
    "img = cv2.imread('images/lenna.png')"
   ]
  },
  {
   "cell_type": "code",
   "execution_count": 52,
   "metadata": {},
   "outputs": [],
   "source": [
    "#Define transformation parameter\n",
    "\n",
    "tx=50\n",
    "ty=100\n",
    "angle=45\n",
    "scale=1.2\n",
    "shear_x=0.3\n",
    "shear_y=0.2"
   ]
  },
  {
   "cell_type": "code",
   "execution_count": 12,
   "metadata": {},
   "outputs": [],
   "source": [
    "#create transformaion matrix\n",
    "\n",
    "M=np.float32([[scale *(np.cos(angle)), shear_x, tx],\n",
    "            [shear_y,scale* np.sin(np.radians(angle)),ty]])\n",
    "\n",
    "#Apply transformation using WarpAffine \n",
    "img_affine = cv2.warpAffine(img, M, (512,512))\n"
   ]
  },
  {
   "cell_type": "code",
   "execution_count": 13,
   "metadata": {},
   "outputs": [],
   "source": [
    "#Display original and affine transformed images\n",
    "\n",
    "\n",
    "cv2.imshow('img_affine', img_affine)\n",
    "cv2.waitKey(0)\n",
    "cv2.destroyAllWindows()\n"
   ]
  },
  {
   "cell_type": "code",
   "execution_count": 77,
   "metadata": {},
   "outputs": [],
   "source": [
    "#Define transformation parameter\n",
    "\n",
    "tx=50\n",
    "ty=200\n",
    "angle=45\n",
    "scale=200/512\n",
    "shear_x=0.10\n",
    "shear_y=0.0\n",
    "\n",
    "#create transformaion matrix\n",
    "\n",
    "M=np.float32([[scale *np.cos(np.radians(angle)), shear_x, tx],\n",
    "            [shear_y,scale* np.sin(np.radians(angle)),ty]])\n",
    "\n",
    "#M=np.float32([[scale *np.cos(np.radians(angle)), -np.sin(np.radians(angle)), tx],\n",
    "#            [shear_y, scale* np.sin(np.radians(angle)),ty]])\n",
    "\n",
    "#Apply transformation using WarpAffine \n",
    "img_affine = cv2.warpAffine(img, M, (512,512))\n",
    "\n",
    "\n",
    "#Display original and affine transformed images\n",
    "\n",
    "\n",
    "cv2.imshow('img_affine', img_affine)\n",
    "cv2.waitKey(0)\n",
    "cv2.destroyAllWindows()\n"
   ]
  },
  {
   "cell_type": "code",
   "execution_count": null,
   "metadata": {},
   "outputs": [],
   "source": []
  }
 ],
 "metadata": {
  "kernelspec": {
   "display_name": "base",
   "language": "python",
   "name": "python3"
  },
  "language_info": {
   "codemirror_mode": {
    "name": "ipython",
    "version": 3
   },
   "file_extension": ".py",
   "mimetype": "text/x-python",
   "name": "python",
   "nbconvert_exporter": "python",
   "pygments_lexer": "ipython3",
   "version": "3.11.7"
  }
 },
 "nbformat": 4,
 "nbformat_minor": 2
}
