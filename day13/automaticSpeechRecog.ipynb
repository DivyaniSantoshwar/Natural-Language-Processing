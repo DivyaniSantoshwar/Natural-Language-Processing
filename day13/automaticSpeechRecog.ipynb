{
 "cells": [
  {
   "cell_type": "code",
   "execution_count": 1,
   "metadata": {},
   "outputs": [
    {
     "name": "stdout",
     "output_type": "stream",
     "text": [
      "Defaulting to user installation because normal site-packages is not writeable\n",
      "Collecting SpeechRecognition\n",
      "  Downloading SpeechRecognition-3.10.4-py2.py3-none-any.whl.metadata (28 kB)\n",
      "Collecting PyAudio\n",
      "  Downloading PyAudio-0.2.14-cp311-cp311-win_amd64.whl.metadata (2.7 kB)\n",
      "Requirement already satisfied: requests>=2.26.0 in c:\\programdata\\anaconda3\\lib\\site-packages (from SpeechRecognition) (2.31.0)\n",
      "Requirement already satisfied: typing-extensions in c:\\programdata\\anaconda3\\lib\\site-packages (from SpeechRecognition) (4.9.0)\n",
      "Requirement already satisfied: charset-normalizer<4,>=2 in c:\\programdata\\anaconda3\\lib\\site-packages (from requests>=2.26.0->SpeechRecognition) (2.0.4)\n",
      "Requirement already satisfied: idna<4,>=2.5 in c:\\programdata\\anaconda3\\lib\\site-packages (from requests>=2.26.0->SpeechRecognition) (3.4)\n",
      "Requirement already satisfied: urllib3<3,>=1.21.1 in c:\\programdata\\anaconda3\\lib\\site-packages (from requests>=2.26.0->SpeechRecognition) (2.0.7)\n",
      "Requirement already satisfied: certifi>=2017.4.17 in c:\\programdata\\anaconda3\\lib\\site-packages (from requests>=2.26.0->SpeechRecognition) (2024.2.2)\n",
      "Downloading SpeechRecognition-3.10.4-py2.py3-none-any.whl (32.8 MB)\n",
      "   ---------------------------------------- 0.0/32.8 MB ? eta -:--:--\n",
      "   ---------------------------------------- 0.1/32.8 MB 4.3 MB/s eta 0:00:08\n",
      "    --------------------------------------- 0.5/32.8 MB 5.6 MB/s eta 0:00:06\n",
      "   - -------------------------------------- 1.0/32.8 MB 7.0 MB/s eta 0:00:05\n",
      "   -- ------------------------------------- 1.7/32.8 MB 10.7 MB/s eta 0:00:03\n",
      "   ---- ----------------------------------- 3.7/32.8 MB 15.6 MB/s eta 0:00:02\n",
      "   ----- ---------------------------------- 4.8/32.8 MB 16.0 MB/s eta 0:00:02\n",
      "   ------- -------------------------------- 5.9/32.8 MB 17.1 MB/s eta 0:00:02\n",
      "   -------- ------------------------------- 7.0/32.8 MB 18.5 MB/s eta 0:00:02\n",
      "   --------- ------------------------------ 8.1/32.8 MB 19.1 MB/s eta 0:00:02\n",
      "   ----------- ---------------------------- 9.2/32.8 MB 19.6 MB/s eta 0:00:02\n",
      "   ------------ --------------------------- 10.3/32.8 MB 21.1 MB/s eta 0:00:02\n",
      "   ------------- -------------------------- 11.5/32.8 MB 25.2 MB/s eta 0:00:01\n",
      "   -------------- ------------------------- 12.2/32.8 MB 25.2 MB/s eta 0:00:01\n",
      "   --------------- ------------------------ 13.1/32.8 MB 23.4 MB/s eta 0:00:01\n",
      "   ----------------- ---------------------- 14.3/32.8 MB 23.4 MB/s eta 0:00:01\n",
      "   ------------------ --------------------- 15.5/32.8 MB 23.4 MB/s eta 0:00:01\n",
      "   -------------------- ------------------- 16.7/32.8 MB 23.4 MB/s eta 0:00:01\n",
      "   --------------------- ------------------ 17.8/32.8 MB 23.4 MB/s eta 0:00:01\n",
      "   ----------------------- ---------------- 19.0/32.8 MB 23.4 MB/s eta 0:00:01\n",
      "   ------------------------ --------------- 20.2/32.8 MB 23.4 MB/s eta 0:00:01\n",
      "   -------------------------- ------------- 21.5/32.8 MB 24.2 MB/s eta 0:00:01\n",
      "   --------------------------- ------------ 22.6/32.8 MB 25.2 MB/s eta 0:00:01\n",
      "   ----------------------------- ---------- 23.8/32.8 MB 26.2 MB/s eta 0:00:01\n",
      "   ------------------------------ --------- 25.1/32.8 MB 26.2 MB/s eta 0:00:01\n",
      "   -------------------------------- ------- 26.3/32.8 MB 26.2 MB/s eta 0:00:01\n",
      "   --------------------------------- ------ 27.6/32.8 MB 26.2 MB/s eta 0:00:01\n",
      "   ----------------------------------- ---- 28.8/32.8 MB 26.2 MB/s eta 0:00:01\n",
      "   ------------------------------------ --- 30.1/32.8 MB 26.2 MB/s eta 0:00:01\n",
      "   -------------------------------------- - 31.3/32.8 MB 27.3 MB/s eta 0:00:01\n",
      "   ---------------------------------------  32.7/32.8 MB 27.3 MB/s eta 0:00:01\n",
      "   ---------------------------------------  32.8/32.8 MB 26.2 MB/s eta 0:00:01\n",
      "   ---------------------------------------  32.8/32.8 MB 26.2 MB/s eta 0:00:01\n",
      "   ---------------------------------------- 32.8/32.8 MB 20.4 MB/s eta 0:00:00\n",
      "Downloading PyAudio-0.2.14-cp311-cp311-win_amd64.whl (164 kB)\n",
      "   ---------------------------------------- 0.0/164.1 kB ? eta -:--:--\n",
      "   --------------------------------------- 164.1/164.1 kB 10.3 MB/s eta 0:00:00\n",
      "Installing collected packages: PyAudio, SpeechRecognition\n",
      "Successfully installed PyAudio-0.2.14 SpeechRecognition-3.10.4\n"
     ]
    }
   ],
   "source": [
    "!pip install SpeechRecognition PyAudio"
   ]
  },
  {
   "cell_type": "markdown",
   "metadata": {},
   "source": [
    "### Import The package"
   ]
  },
  {
   "cell_type": "code",
   "execution_count": 2,
   "metadata": {},
   "outputs": [],
   "source": [
    "import speech_recognition as sr"
   ]
  },
  {
   "cell_type": "markdown",
   "metadata": {},
   "source": [
    "#### Create the object of microphone"
   ]
  },
  {
   "cell_type": "code",
   "execution_count": 3,
   "metadata": {},
   "outputs": [],
   "source": [
    "r = sr.Recognizer()"
   ]
  },
  {
   "cell_type": "markdown",
   "metadata": {},
   "source": [
    "#### Open Microphone, recognize and convert"
   ]
  },
  {
   "cell_type": "code",
   "execution_count": 17,
   "metadata": {},
   "outputs": [
    {
     "name": "stdout",
     "output_type": "stream",
     "text": [
      "Speak:\n",
      "You Said: arigatou\n"
     ]
    }
   ],
   "source": [
    "with sr.Microphone() as source:\n",
    "    print(\"Speak:\")\n",
    "    audio = r.listen(source)\n",
    "    print('You Said:', r.recognize_google(audio))"
   ]
  },
  {
   "cell_type": "code",
   "execution_count": null,
   "metadata": {},
   "outputs": [],
   "source": []
  },
  {
   "cell_type": "code",
   "execution_count": null,
   "metadata": {},
   "outputs": [],
   "source": []
  }
 ],
 "metadata": {
  "kernelspec": {
   "display_name": "base",
   "language": "python",
   "name": "python3"
  },
  "language_info": {
   "codemirror_mode": {
    "name": "ipython",
    "version": 3
   },
   "file_extension": ".py",
   "mimetype": "text/x-python",
   "name": "python",
   "nbconvert_exporter": "python",
   "pygments_lexer": "ipython3",
   "version": "3.11.7"
  }
 },
 "nbformat": 4,
 "nbformat_minor": 2
}
